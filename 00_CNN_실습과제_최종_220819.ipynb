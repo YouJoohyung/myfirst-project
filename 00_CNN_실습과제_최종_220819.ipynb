{
  "cells": [
    {
      "cell_type": "markdown",
      "metadata": {
        "id": "view-in-github",
        "colab_type": "text"
      },
      "source": [
        "<a href=\"https://colab.research.google.com/github/YouJoohyung/myfirst-project/blob/master/00_CNN_%EC%8B%A4%EC%8A%B5%EA%B3%BC%EC%A0%9C_%EC%B5%9C%EC%A2%85_220819.ipynb\" target=\"_parent\"><img src=\"https://colab.research.google.com/assets/colab-badge.svg\" alt=\"Open In Colab\"/></a>"
      ]
    },
    {
      "cell_type": "code",
      "execution_count": null,
      "metadata": {
        "id": "nBtFyxULKX51"
      },
      "outputs": [],
      "source": [
        "# 변수의 shape, type, value 확인\n",
        "def p(var) :\n",
        "    if type(var)!=type([]):\n",
        "        try: \n",
        "            print(f'Shape:{var.shape}')\n",
        "        except : \n",
        "            pass\n",
        "    print(f'Type: {type(var)}')\n",
        "    print(f'Values: {var}')\n",
        "\n",
        "def pst(_x,_name=\"\"):\n",
        "    print(f'[{_name}] Shape{_x.shape}, {type(_x)}')\n",
        "def ps(_x,_name=\"\"):\n",
        "    print(f'[{_name}] Shape{_x.shape}')"
      ]
    },
    {
      "cell_type": "code",
      "execution_count": null,
      "metadata": {
        "colab": {
          "base_uri": "https://localhost:8080/",
          "height": 35
        },
        "id": "0trJmd6DjqBZ",
        "outputId": "06c0463c-fe13-4c08-fb08-7693a0a26d90"
      },
      "outputs": [
        {
          "output_type": "execute_result",
          "data": {
            "text/plain": [
              "'2.8.0'"
            ],
            "application/vnd.google.colaboratory.intrinsic+json": {
              "type": "string"
            }
          },
          "metadata": {},
          "execution_count": 2
        }
      ],
      "source": [
        "from tensorflow import keras\n",
        "from tensorflow.keras import layers\n",
        "import numpy as np\n",
        "import matplotlib.pyplot as plt\n",
        "\n",
        "import tensorflow as tf\n",
        "from IPython import display\n",
        "\n",
        "from tensorflow.keras.layers import Dense, Flatten, Conv2D\n",
        "from tensorflow.keras.layers import MaxPool2D, MaxPool1D\n",
        "from tensorflow.keras.layers import Dropout, BatchNormalization\n",
        "from tensorflow.keras.layers import Input\n",
        "from tensorflow.keras.models import Model\n",
        "\n",
        "keras.__version__"
      ]
    },
    {
      "cell_type": "markdown",
      "metadata": {
        "id": "GnaUZbi_hIHw"
      },
      "source": [
        "# **평가 과제** : CNN Model 최적화 실습"
      ]
    },
    {
      "cell_type": "markdown",
      "metadata": {
        "id": "o5QEUAIbhVUQ"
      },
      "source": [
        "## 과제1 : 기준모델 성능 확인    \n",
        "* 다음 기준 모델에 CIFAR-10 Dataset을 적용하여  \n",
        "* 학습 후 최고 Accuracy를 확인하고,   \n",
        "* Train, Validation Accuracy와 Loss를 Plotting 하자 \n"
      ]
    },
    {
      "cell_type": "code",
      "execution_count": null,
      "metadata": {
        "id": "7FP5258xjs-v",
        "colab": {
          "base_uri": "https://localhost:8080/"
        },
        "outputId": "f5b45ad8-3ce7-430e-90a5-f4ba50dd03a5"
      },
      "outputs": [
        {
          "output_type": "stream",
          "name": "stdout",
          "text": [
            "Downloading data from https://www.cs.toronto.edu/~kriz/cifar-10-python.tar.gz\n",
            "170500096/170498071 [==============================] - 2s 0us/step\n",
            "170508288/170498071 [==============================] - 2s 0us/step\n"
          ]
        }
      ],
      "source": [
        "data_set = tf.keras.datasets.cifar10         # Color,(RGB)3chnnel \n",
        "\n",
        "(x_train, y_train), (x_test, y_test) = data_set.load_data()\n",
        "x_train, x_test = x_train / 255.0, x_test / 255.0\n"
      ]
    },
    {
      "cell_type": "markdown",
      "metadata": {
        "id": "zaF3AiENl7aS"
      },
      "source": [
        "#### 기준 모델"
      ]
    },
    {
      "cell_type": "code",
      "execution_count": null,
      "metadata": {
        "id": "0DOFN_R02v8A"
      },
      "outputs": [],
      "source": [
        "def model_cnn_batchnormal():\n",
        "    model = tf.keras.models.Sequential()\n",
        "    # conv 1\n",
        "    model.add(Conv2D(64,3,padding='same',input_shape=(32,32,3))) \n",
        "    model.add(BatchNormalization())             \n",
        "    model.add(layers.ReLU())\n",
        "    model.add(Dropout(rate=0.2))                        \n",
        "    model.add(MaxPool2D())\n",
        "    # conv 2\n",
        "    model.add(Conv2D(64, 3, padding='same'))\n",
        "    model.add(BatchNormalization())             \n",
        "    model.add(layers.ReLU())\n",
        "    model.add(Dropout(rate=0.2))                        \n",
        "    model.add(MaxPool2D())\n",
        "    # dense layers\n",
        "    model.add(Flatten(name='flatten'))\n",
        "    model.add(Dense(1000, activation='relu',name='dense_256'))\n",
        "    model.add(Dense(10, activation='softmax', name='dense_10'))\n",
        "    return model\n",
        "\n",
        "model_BN=model_cnn_batchnormal()\n",
        "#model_BN.summary()"
      ]
    },
    {
      "cell_type": "code",
      "execution_count": null,
      "metadata": {
        "id": "EjVZ-mBFiWAd"
      },
      "outputs": [],
      "source": [
        "model_BN.compile(optimizer=tf.keras.optimizers.Adam(learning_rate=0.001),\n",
        "              loss='sparse_categorical_crossentropy',\n",
        "              metrics=['acc'])\n",
        "\n",
        "# model_BN.compile(optimizer='adam',\n",
        "#               loss='sparse_categorical_crossentropy',\n",
        "#               metrics=['acc'])"
      ]
    },
    {
      "cell_type": "code",
      "execution_count": null,
      "metadata": {
        "id": "m4bkv71JiiFz",
        "scrolled": true,
        "tags": [],
        "colab": {
          "base_uri": "https://localhost:8080/"
        },
        "outputId": "fda89431-089a-49b9-a783-cc692b7a72f5"
      },
      "outputs": [
        {
          "output_type": "stream",
          "name": "stdout",
          "text": [
            "Epoch 1/10\n",
            "98/98 [==============================] - 4s 46ms/step - loss: 1.4293 - acc: 0.4837 - val_loss: 3.1519 - val_acc: 0.1129\n",
            "Epoch 2/10\n",
            "98/98 [==============================] - 4s 43ms/step - loss: 1.2112 - acc: 0.5665 - val_loss: 2.9065 - val_acc: 0.1151\n",
            "Epoch 3/10\n",
            "98/98 [==============================] - 4s 43ms/step - loss: 1.0772 - acc: 0.6187 - val_loss: 2.4077 - val_acc: 0.2149\n",
            "Epoch 4/10\n",
            "98/98 [==============================] - 4s 43ms/step - loss: 0.9704 - acc: 0.6572 - val_loss: 1.9504 - val_acc: 0.3831\n",
            "Epoch 5/10\n",
            "98/98 [==============================] - 4s 43ms/step - loss: 0.8839 - acc: 0.6899 - val_loss: 1.5669 - val_acc: 0.4672\n",
            "Epoch 6/10\n",
            "98/98 [==============================] - 4s 43ms/step - loss: 0.8342 - acc: 0.7076 - val_loss: 1.1531 - val_acc: 0.5983\n",
            "Epoch 7/10\n",
            "98/98 [==============================] - 4s 43ms/step - loss: 0.7759 - acc: 0.7289 - val_loss: 1.0642 - val_acc: 0.6335\n",
            "Epoch 8/10\n",
            "98/98 [==============================] - 4s 43ms/step - loss: 0.7498 - acc: 0.7379 - val_loss: 0.9379 - val_acc: 0.6783\n",
            "Epoch 9/10\n",
            "98/98 [==============================] - 4s 44ms/step - loss: 0.7021 - acc: 0.7551 - val_loss: 0.9758 - val_acc: 0.6612\n",
            "Epoch 10/10\n",
            "98/98 [==============================] - 4s 43ms/step - loss: 0.6702 - acc: 0.7677 - val_loss: 0.9438 - val_acc: 0.6684\n",
            "CPU times: user 30.6 s, sys: 1.22 s, total: 31.9 s\n",
            "Wall time: 1min 22s\n"
          ]
        }
      ],
      "source": [
        "%%time\n",
        "# epoch_n = 10\n",
        "epoch_n = 10\n",
        "batch_size = 512\n",
        "history_BN = model_BN.fit(x_train, y_train, \n",
        "                        epochs=epoch_n,\n",
        "                        batch_size=batch_size,\n",
        "                        validation_data=(x_test, y_test)\n",
        "                        )"
      ]
    },
    {
      "cell_type": "code",
      "execution_count": null,
      "metadata": {
        "id": "EkAYMpMu4xhk",
        "colab": {
          "base_uri": "https://localhost:8080/"
        },
        "outputId": "b85fdb29-84aa-41ad-93b1-852dfec1d272"
      },
      "outputs": [
        {
          "output_type": "stream",
          "name": "stdout",
          "text": [
            "\t 0.6783000230789185\n"
          ]
        }
      ],
      "source": [
        "print('\\t',np.max(history_BN.history['val_acc']))"
      ]
    },
    {
      "cell_type": "code",
      "execution_count": null,
      "metadata": {
        "id": "6Go-daMcgJi9",
        "colab": {
          "base_uri": "https://localhost:8080/"
        },
        "outputId": "53ad45cb-8127-4043-d90d-96b78a2a6ab3"
      },
      "outputs": [
        {
          "output_type": "execute_result",
          "data": {
            "text/plain": [
              "dict_keys(['loss', 'acc', 'val_loss', 'val_acc'])"
            ]
          },
          "metadata": {},
          "execution_count": 22
        }
      ],
      "source": [
        "history_BN.history.keys()"
      ]
    },
    {
      "cell_type": "code",
      "execution_count": null,
      "metadata": {
        "id": "aH-g2Gyv0tBI",
        "colab": {
          "base_uri": "https://localhost:8080/",
          "height": 513
        },
        "outputId": "7b7c717c-a04b-4db2-8f3e-48a70ff73454"
      },
      "outputs": [
        {
          "output_type": "display_data",
          "data": {
            "text/plain": [
              "<Figure size 576x576 with 2 Axes>"
            ],
            "image/png": "[encoded data removed]"
          },
          "metadata": {
            "needs_background": "light"
          }
        }
      ],
      "source": [
        "loss = history_BN.history['loss']\n",
        "epochs = range(1, len(loss)+1)\n",
        "\n",
        "plt.figure(figsize=(8, 8))\n",
        "plt.subplot(2, 1, 1)\n",
        "plt.title('Accuray')\n",
        "plt.plot(epochs, history_BN.history['acc'], '--', label='tCNN_BN')\n",
        "plt.plot(epochs, history_BN.history['val_acc'], '-', label='vCNN_BN')\n",
        "plt.grid(True)\n",
        "plt.ylabel('ValidationAccuracy')\n",
        "# plt.ylim([0.6, 1])\n",
        "plt.legend(loc='best')\n",
        "\n",
        "plt.subplot(2, 1, 2)\n",
        "plt.title('Loss')\n",
        "plt.plot(epochs, history_BN.history['loss'], '--', label='tCNN_BN')\n",
        "plt.plot(epochs, history_BN.history['val_loss'], '-', label='vCNN_BN')\n",
        "\n",
        "plt.grid(True)\n",
        "plt.xlabel('Epoch')\n",
        "plt.ylabel('Loss')\n",
        "#plt.semilogy()\n",
        "# plt.ylim([0.0, 1])\n",
        "plt.legend(loc='best')\n",
        "plt.show()\n"
      ]
    },
    {
      "cell_type": "markdown",
      "source": [
        "## 과제2 : 성능 개선 "
      ],
      "metadata": {
        "id": "7wUA6DGNGfU2"
      }
    },
    {
      "cell_type": "markdown",
      "source": [
        "**기준 모델을 수정하여 성능을 높여보자**  \n",
        "주요 수정 사항  \n",
        "1) Conv Layer의 수 및 각각의 node수  \n",
        "2) BN Layer의 유무  \n",
        "3) Dropout Layer의 유무 및 rate   \n",
        "4) Dense(1000)의 유무, node 수  \n",
        "**기준모델과 성능을 비교하여 설명해 보자**   \n"
      ],
      "metadata": {
        "id": "dO1fRcKteuvE"
      }
    },
    {
      "cell_type": "code",
      "source": [
        "# 2) BN Layer의 유무  \n",
        "def model_cnn_batchnormal_2():\n",
        "    model = tf.keras.models.Sequential()\n",
        "    # conv 1\n",
        "    model.add(Conv2D(64,3,padding='same',input_shape=(32,32,3))) \n",
        "    # model.add(BatchNormalization())             \n",
        "    model.add(layers.ReLU())\n",
        "    model.add(Dropout(rate=0.2))                        \n",
        "    model.add(MaxPool2D())\n",
        "    # conv 2\n",
        "    model.add(Conv2D(64, 3, padding='same'))\n",
        "    # model.add(BatchNormalization())             \n",
        "    model.add(layers.ReLU())\n",
        "    model.add(Dropout(rate=0.2))                        \n",
        "    model.add(MaxPool2D())\n",
        "    # dense layers\n",
        "    model.add(Flatten(name='flatten'))\n",
        "    model.add(Dense(1000, activation='relu',name='dense_256'))\n",
        "    model.add(Dense(10, activation='softmax', name='dense_10'))\n",
        "    return model\n",
        "\n",
        "model_BN_2=model_cnn_batchnormal_2()\n",
        "#model_BN.summary()"
      ],
      "metadata": {
        "id": "MaiB9c29Jara"
      },
      "execution_count": null,
      "outputs": []
    },
    {
      "cell_type": "code",
      "source": [
        "# 3) Dropout Layer의 유무 및 rate\n",
        "def model_cnn_batchnormal_3():\n",
        "    model = tf.keras.models.Sequential()\n",
        "    # conv 1\n",
        "    model.add(Conv2D(64,3,padding='same',input_shape=(32,32,3))) \n",
        "    model.add(BatchNormalization())             \n",
        "    model.add(layers.ReLU())\n",
        "    # model.add(Dropout(rate=0.2))                        \n",
        "    model.add(MaxPool2D())\n",
        "    # conv 2\n",
        "    model.add(Conv2D(64, 3, padding='same'))\n",
        "    model.add(BatchNormalization())             \n",
        "    model.add(layers.ReLU())\n",
        "    # model.add(Dropout(rate=0.2))                        \n",
        "    model.add(MaxPool2D())\n",
        "    # dense layers\n",
        "    model.add(Flatten(name='flatten'))\n",
        "    model.add(Dense(1000, activation='relu',name='dense_256'))\n",
        "    model.add(Dense(10, activation='softmax', name='dense_10'))\n",
        "    return model\n",
        "\n",
        "model_BN_3=model_cnn_batchnormal_3()\n",
        "#model_BN.summary()\n"
      ],
      "metadata": {
        "id": "QqoohWHrI7U4"
      },
      "execution_count": null,
      "outputs": []
    },
    {
      "cell_type": "code",
      "source": [
        "# 4) Dense(1000)의 유무, node 수\n",
        "def model_cnn_batchnormal_4():\n",
        "    model = tf.keras.models.Sequential()\n",
        "    # conv 1\n",
        "    model.add(Conv2D(64,3,padding='same',input_shape=(32,32,3))) \n",
        "    model.add(BatchNormalization())             \n",
        "    model.add(layers.ReLU())\n",
        "    model.add(Dropout(rate=0.2))                        \n",
        "    model.add(MaxPool2D())\n",
        "    # conv 2\n",
        "    model.add(Conv2D(64, 3, padding='same'))\n",
        "    model.add(BatchNormalization())             \n",
        "    model.add(layers.ReLU())\n",
        "    model.add(Dropout(rate=0.2))                        \n",
        "    model.add(MaxPool2D())\n",
        "    # dense layers\n",
        "    model.add(Flatten(name='flatten'))\n",
        "    # model.add(Dense(1000, activation='relu',name='dense_256'))\n",
        "    model.add(Dense(10, activation='softmax', name='dense_10'))\n",
        "    return model\n",
        "\n",
        "model_BN_4=model_cnn_batchnormal_4()\n",
        "#model_BN.summary()"
      ],
      "metadata": {
        "id": "AWcH6e7eI8M3"
      },
      "execution_count": null,
      "outputs": []
    },
    {
      "cell_type": "code",
      "source": [
        "#1 Conv Layer 추가, Dense는 제외함\n",
        "def model_cnn_batchnormal_1():\n",
        "    model = tf.keras.models.Sequential()\n",
        "    # conv 1\n",
        "    model.add(Conv2D(64,3,padding='same',input_shape=(32,32,3))) \n",
        "    model.add(BatchNormalization())             \n",
        "    model.add(layers.ReLU())\n",
        "    model.add(Dropout(rate=0.2))                        \n",
        "    model.add(MaxPool2D())\n",
        "    # conv 2\n",
        "    model.add(Conv2D(64, 3, padding='same'))\n",
        "    model.add(BatchNormalization())             \n",
        "    model.add(layers.ReLU())\n",
        "    model.add(Dropout(rate=0.2))                        \n",
        "    model.add(MaxPool2D())\n",
        "    # conv 2\n",
        "    model.add(Conv2D(64, 3, padding='same'))\n",
        "    model.add(BatchNormalization())             \n",
        "    model.add(layers.ReLU())\n",
        "    model.add(Dropout(rate=0.2))                        \n",
        "    model.add(MaxPool2D())\n",
        "    # dense layers\n",
        "    model.add(Flatten(name='flatten'))\n",
        "    # model.add(Dense(1000, activation='relu',name='dense_256'))\n",
        "    model.add(Dense(10, activation='softmax', name='dense_10'))\n",
        "    return model\n",
        "\n",
        "model_BN_1=model_cnn_batchnormal_1()\n",
        "#model_BN.summary()"
      ],
      "metadata": {
        "id": "WuwtpZqTI72n"
      },
      "execution_count": null,
      "outputs": []
    },
    {
      "cell_type": "code",
      "source": [
        "model_BN_1.compile(optimizer='adam',\n",
        "              loss='sparse_categorical_crossentropy',\n",
        "              metrics=['acc'])"
      ],
      "metadata": {
        "id": "fbhFfN97KLnb"
      },
      "execution_count": null,
      "outputs": []
    },
    {
      "cell_type": "code",
      "source": [
        "%%time\n",
        "epoch_n = 30\n",
        "history_BN1 = model_BN_1.fit(x_train, y_train, \n",
        "                        epochs=epoch_n,\n",
        "                        batch_size=batch_size,\n",
        "                        validation_data=(x_test, y_test)\n",
        "                        )"
      ],
      "metadata": {
        "colab": {
          "base_uri": "https://localhost:8080/"
        },
        "id": "HglgCV_hKXo0",
        "outputId": "ae75d401-c406-4713-9e0c-0c8c9548051f"
      },
      "execution_count": null,
      "outputs": [
        {
          "output_type": "stream",
          "name": "stdout",
          "text": [
            "Epoch 1/30\n",
            "98/98 [==============================] - 5s 48ms/step - loss: 1.6178 - acc: 0.4290 - val_loss: 2.6872 - val_acc: 0.1000\n",
            "Epoch 2/30\n",
            "98/98 [==============================] - 4s 44ms/step - loss: 1.1849 - acc: 0.5805 - val_loss: 3.1111 - val_acc: 0.1001\n",
            "Epoch 3/30\n",
            "98/98 [==============================] - 4s 45ms/step - loss: 1.0177 - acc: 0.6451 - val_loss: 2.8757 - val_acc: 0.1094\n",
            "Epoch 4/30\n",
            "98/98 [==============================] - 4s 44ms/step - loss: 0.9219 - acc: 0.6778 - val_loss: 2.3545 - val_acc: 0.2598\n",
            "Epoch 5/30\n",
            "98/98 [==============================] - 4s 44ms/step - loss: 0.8609 - acc: 0.6992 - val_loss: 1.9647 - val_acc: 0.3544\n",
            "Epoch 6/30\n",
            "98/98 [==============================] - 4s 44ms/step - loss: 0.8017 - acc: 0.7193 - val_loss: 1.4373 - val_acc: 0.4818\n",
            "Epoch 7/30\n",
            "98/98 [==============================] - 4s 44ms/step - loss: 0.7570 - acc: 0.7350 - val_loss: 1.0532 - val_acc: 0.6442\n",
            "Epoch 8/30\n",
            "98/98 [==============================] - 4s 44ms/step - loss: 0.7177 - acc: 0.7522 - val_loss: 1.0716 - val_acc: 0.5975\n",
            "Epoch 9/30\n",
            "98/98 [==============================] - 4s 43ms/step - loss: 0.6906 - acc: 0.7612 - val_loss: 0.9421 - val_acc: 0.6855\n",
            "Epoch 10/30\n",
            "98/98 [==============================] - 4s 44ms/step - loss: 0.6616 - acc: 0.7706 - val_loss: 1.0155 - val_acc: 0.6461\n",
            "Epoch 11/30\n",
            "98/98 [==============================] - 5s 46ms/step - loss: 0.6394 - acc: 0.7775 - val_loss: 0.9293 - val_acc: 0.6875\n",
            "Epoch 12/30\n",
            "98/98 [==============================] - 4s 44ms/step - loss: 0.6231 - acc: 0.7847 - val_loss: 1.1865 - val_acc: 0.6013\n",
            "Epoch 13/30\n",
            "98/98 [==============================] - 4s 44ms/step - loss: 0.6022 - acc: 0.7914 - val_loss: 0.9548 - val_acc: 0.6762\n",
            "Epoch 14/30\n",
            "98/98 [==============================] - 5s 49ms/step - loss: 0.5823 - acc: 0.7964 - val_loss: 1.2589 - val_acc: 0.5605\n",
            "Epoch 15/30\n",
            "98/98 [==============================] - 4s 44ms/step - loss: 0.5628 - acc: 0.8047 - val_loss: 1.2801 - val_acc: 0.5529\n",
            "Epoch 16/30\n",
            "98/98 [==============================] - 4s 44ms/step - loss: 0.5477 - acc: 0.8105 - val_loss: 1.3144 - val_acc: 0.5649\n",
            "Epoch 17/30\n",
            "98/98 [==============================] - 4s 45ms/step - loss: 0.5411 - acc: 0.8113 - val_loss: 1.4630 - val_acc: 0.5141\n",
            "Epoch 18/30\n",
            "98/98 [==============================] - 5s 46ms/step - loss: 0.5214 - acc: 0.8178 - val_loss: 1.2203 - val_acc: 0.5854\n",
            "Epoch 19/30\n",
            "98/98 [==============================] - 4s 45ms/step - loss: 0.5112 - acc: 0.8221 - val_loss: 1.0760 - val_acc: 0.6237\n",
            "Epoch 20/30\n",
            "98/98 [==============================] - 4s 43ms/step - loss: 0.4983 - acc: 0.8262 - val_loss: 1.5691 - val_acc: 0.4893\n",
            "Epoch 21/30\n",
            "98/98 [==============================] - 4s 44ms/step - loss: 0.4958 - acc: 0.8259 - val_loss: 0.7986 - val_acc: 0.7205\n",
            "Epoch 22/30\n",
            "98/98 [==============================] - 4s 44ms/step - loss: 0.4876 - acc: 0.8286 - val_loss: 1.7791 - val_acc: 0.4474\n",
            "Epoch 23/30\n",
            "98/98 [==============================] - 4s 44ms/step - loss: 0.4688 - acc: 0.8344 - val_loss: 1.1871 - val_acc: 0.6062\n",
            "Epoch 24/30\n",
            "98/98 [==============================] - 4s 44ms/step - loss: 0.4588 - acc: 0.8398 - val_loss: 0.9065 - val_acc: 0.6915\n",
            "Epoch 25/30\n",
            "98/98 [==============================] - 4s 44ms/step - loss: 0.4583 - acc: 0.8395 - val_loss: 0.9864 - val_acc: 0.6487\n",
            "Epoch 26/30\n",
            "98/98 [==============================] - 4s 45ms/step - loss: 0.4463 - acc: 0.8431 - val_loss: 0.8025 - val_acc: 0.7193\n",
            "Epoch 27/30\n",
            "98/98 [==============================] - 4s 44ms/step - loss: 0.4342 - acc: 0.8455 - val_loss: 0.9548 - val_acc: 0.6760\n",
            "Epoch 28/30\n",
            "98/98 [==============================] - 4s 44ms/step - loss: 0.4231 - acc: 0.8507 - val_loss: 0.9311 - val_acc: 0.6747\n",
            "Epoch 29/30\n",
            "98/98 [==============================] - 4s 44ms/step - loss: 0.4213 - acc: 0.8519 - val_loss: 0.7179 - val_acc: 0.7478\n",
            "Epoch 30/30\n",
            "98/98 [==============================] - 4s 44ms/step - loss: 0.4113 - acc: 0.8565 - val_loss: 1.1310 - val_acc: 0.6169\n",
            "CPU times: user 1min 29s, sys: 3.49 s, total: 1min 33s\n",
            "Wall time: 2min 12s\n"
          ]
        }
      ]
    },
    {
      "cell_type": "code",
      "source": [
        "model_BN_2.compile(optimizer='adam',\n",
        "              loss='sparse_categorical_crossentropy',\n",
        "              metrics=['acc'])"
      ],
      "metadata": {
        "id": "TMuOGw-EKLAT"
      },
      "execution_count": null,
      "outputs": []
    },
    {
      "cell_type": "code",
      "source": [
        "%%time\n",
        "epoch_n = 30\n",
        "history_BN2 = model_BN_2.fit(x_train, y_train, \n",
        "                        epochs=epoch_n,\n",
        "                        batch_size=batch_size,\n",
        "                        validation_data=(x_test, y_test)\n",
        "                        )"
      ],
      "metadata": {
        "colab": {
          "base_uri": "https://localhost:8080/"
        },
        "id": "idcoVIYuKY4j",
        "outputId": "90bc7110-f55e-41cb-f2bc-afc9afa117a8"
      },
      "execution_count": null,
      "outputs": [
        {
          "output_type": "stream",
          "name": "stdout",
          "text": [
            "Epoch 1/30\n",
            "98/98 [==============================] - 4s 41ms/step - loss: 1.6376 - acc: 0.4137 - val_loss: 1.3975 - val_acc: 0.5243\n",
            "Epoch 2/30\n",
            "98/98 [==============================] - 4s 38ms/step - loss: 1.2095 - acc: 0.5726 - val_loss: 1.1943 - val_acc: 0.6015\n",
            "Epoch 3/30\n",
            "98/98 [==============================] - 4s 38ms/step - loss: 1.0551 - acc: 0.6301 - val_loss: 1.0854 - val_acc: 0.6454\n",
            "Epoch 4/30\n",
            "98/98 [==============================] - 4s 38ms/step - loss: 0.9453 - acc: 0.6698 - val_loss: 1.0021 - val_acc: 0.6666\n",
            "Epoch 5/30\n",
            "98/98 [==============================] - 4s 38ms/step - loss: 0.8791 - acc: 0.6943 - val_loss: 0.9396 - val_acc: 0.6868\n",
            "Epoch 6/30\n",
            "98/98 [==============================] - 4s 38ms/step - loss: 0.7976 - acc: 0.7242 - val_loss: 0.9239 - val_acc: 0.6926\n",
            "Epoch 7/30\n",
            "98/98 [==============================] - 4s 39ms/step - loss: 0.7449 - acc: 0.7404 - val_loss: 0.8955 - val_acc: 0.6928\n",
            "Epoch 8/30\n",
            "98/98 [==============================] - 4s 42ms/step - loss: 0.6685 - acc: 0.7690 - val_loss: 0.8561 - val_acc: 0.7141\n",
            "Epoch 9/30\n",
            "98/98 [==============================] - 4s 41ms/step - loss: 0.6188 - acc: 0.7873 - val_loss: 0.8401 - val_acc: 0.7117\n",
            "Epoch 10/30\n",
            "98/98 [==============================] - 4s 41ms/step - loss: 0.5550 - acc: 0.8092 - val_loss: 0.8174 - val_acc: 0.7216\n",
            "Epoch 11/30\n",
            "98/98 [==============================] - 4s 38ms/step - loss: 0.4909 - acc: 0.8341 - val_loss: 0.7987 - val_acc: 0.7288\n",
            "Epoch 12/30\n",
            "98/98 [==============================] - 4s 40ms/step - loss: 0.4363 - acc: 0.8515 - val_loss: 0.7942 - val_acc: 0.7257\n",
            "Epoch 13/30\n",
            "98/98 [==============================] - 4s 39ms/step - loss: 0.3630 - acc: 0.8777 - val_loss: 0.7967 - val_acc: 0.7289\n",
            "Epoch 14/30\n",
            "98/98 [==============================] - 4s 39ms/step - loss: 0.3126 - acc: 0.8955 - val_loss: 0.8208 - val_acc: 0.7244\n",
            "Epoch 15/30\n",
            "98/98 [==============================] - 4s 41ms/step - loss: 0.2664 - acc: 0.9147 - val_loss: 0.8043 - val_acc: 0.7377\n",
            "Epoch 16/30\n",
            "98/98 [==============================] - 4s 40ms/step - loss: 0.2111 - acc: 0.9337 - val_loss: 0.8220 - val_acc: 0.7354\n",
            "Epoch 17/30\n",
            "98/98 [==============================] - 4s 39ms/step - loss: 0.1801 - acc: 0.9431 - val_loss: 0.8362 - val_acc: 0.7366\n",
            "Epoch 18/30\n",
            "98/98 [==============================] - 4s 39ms/step - loss: 0.1382 - acc: 0.9588 - val_loss: 0.8595 - val_acc: 0.7385\n",
            "Epoch 19/30\n",
            "98/98 [==============================] - 4s 39ms/step - loss: 0.1212 - acc: 0.9634 - val_loss: 0.8760 - val_acc: 0.7342\n",
            "Epoch 20/30\n",
            "98/98 [==============================] - 4s 39ms/step - loss: 0.0917 - acc: 0.9746 - val_loss: 0.9084 - val_acc: 0.7358\n",
            "Epoch 21/30\n",
            "98/98 [==============================] - 4s 39ms/step - loss: 0.0789 - acc: 0.9778 - val_loss: 0.9590 - val_acc: 0.7277\n",
            "Epoch 22/30\n",
            "98/98 [==============================] - 4s 38ms/step - loss: 0.0731 - acc: 0.9793 - val_loss: 0.9562 - val_acc: 0.7355\n",
            "Epoch 23/30\n",
            "98/98 [==============================] - 4s 38ms/step - loss: 0.0563 - acc: 0.9853 - val_loss: 1.0080 - val_acc: 0.7346\n",
            "Epoch 24/30\n",
            "98/98 [==============================] - 4s 38ms/step - loss: 0.0528 - acc: 0.9859 - val_loss: 1.0410 - val_acc: 0.7214\n",
            "Epoch 25/30\n",
            "98/98 [==============================] - 4s 38ms/step - loss: 0.0480 - acc: 0.9873 - val_loss: 1.0330 - val_acc: 0.7395\n",
            "Epoch 26/30\n",
            "98/98 [==============================] - 4s 38ms/step - loss: 0.0397 - acc: 0.9893 - val_loss: 1.0720 - val_acc: 0.7374\n",
            "Epoch 27/30\n",
            "98/98 [==============================] - 4s 38ms/step - loss: 0.0367 - acc: 0.9897 - val_loss: 1.1068 - val_acc: 0.7323\n",
            "Epoch 28/30\n",
            "98/98 [==============================] - 4s 39ms/step - loss: 0.0465 - acc: 0.9863 - val_loss: 1.1297 - val_acc: 0.7306\n",
            "Epoch 29/30\n",
            "98/98 [==============================] - 4s 38ms/step - loss: 0.0339 - acc: 0.9911 - val_loss: 1.1664 - val_acc: 0.7300\n",
            "Epoch 30/30\n",
            "98/98 [==============================] - 4s 38ms/step - loss: 0.0349 - acc: 0.9900 - val_loss: 1.1303 - val_acc: 0.7310\n",
            "CPU times: user 1min 17s, sys: 3.68 s, total: 1min 21s\n",
            "Wall time: 2min 23s\n"
          ]
        }
      ]
    },
    {
      "cell_type": "code",
      "source": [
        "model_BN_3.compile(optimizer='adam',\n",
        "              loss='sparse_categorical_crossentropy',\n",
        "              metrics=['acc'])"
      ],
      "metadata": {
        "id": "iDRDYVxOKKzy"
      },
      "execution_count": null,
      "outputs": []
    },
    {
      "cell_type": "code",
      "source": [
        "%%time\n",
        "epoch_n = 30\n",
        "history_BN3 = model_BN_3.fit(x_train, y_train, \n",
        "                        epochs=epoch_n,\n",
        "                        batch_size=batch_size,\n",
        "                        validation_data=(x_test, y_test)\n",
        "                        )"
      ],
      "metadata": {
        "colab": {
          "base_uri": "https://localhost:8080/"
        },
        "id": "sc8jXpjRKdk6",
        "outputId": "ce590d32-2920-46b3-f0b2-8e14c918dafc"
      },
      "execution_count": null,
      "outputs": [
        {
          "output_type": "stream",
          "name": "stdout",
          "text": [
            "Epoch 1/30\n",
            "98/98 [==============================] - 4s 40ms/step - loss: 2.7993 - acc: 0.3224 - val_loss: 2.6170 - val_acc: 0.1081\n",
            "Epoch 2/30\n",
            "98/98 [==============================] - 3s 36ms/step - loss: 1.4196 - acc: 0.4894 - val_loss: 3.4742 - val_acc: 0.1157\n",
            "Epoch 3/30\n",
            "98/98 [==============================] - 3s 35ms/step - loss: 1.2010 - acc: 0.5682 - val_loss: 3.6994 - val_acc: 0.1358\n",
            "Epoch 4/30\n",
            "98/98 [==============================] - 3s 34ms/step - loss: 1.0391 - acc: 0.6310 - val_loss: 2.3879 - val_acc: 0.2622\n",
            "Epoch 5/30\n",
            "98/98 [==============================] - 4s 36ms/step - loss: 0.9296 - acc: 0.6717 - val_loss: 1.5432 - val_acc: 0.4555\n",
            "Epoch 6/30\n",
            "98/98 [==============================] - 3s 34ms/step - loss: 0.8542 - acc: 0.7014 - val_loss: 1.3648 - val_acc: 0.5233\n",
            "Epoch 7/30\n",
            "98/98 [==============================] - 3s 34ms/step - loss: 0.7917 - acc: 0.7234 - val_loss: 0.9535 - val_acc: 0.6655\n",
            "Epoch 8/30\n",
            "98/98 [==============================] - 3s 34ms/step - loss: 0.7468 - acc: 0.7387 - val_loss: 0.9320 - val_acc: 0.6743\n",
            "Epoch 9/30\n",
            "98/98 [==============================] - 3s 35ms/step - loss: 0.6966 - acc: 0.7574 - val_loss: 1.0046 - val_acc: 0.6539\n",
            "Epoch 10/30\n",
            "98/98 [==============================] - 3s 36ms/step - loss: 0.6555 - acc: 0.7718 - val_loss: 0.8829 - val_acc: 0.6953\n",
            "Epoch 11/30\n",
            "98/98 [==============================] - 3s 34ms/step - loss: 0.6314 - acc: 0.7812 - val_loss: 1.1094 - val_acc: 0.6454\n",
            "Epoch 12/30\n",
            "98/98 [==============================] - 3s 34ms/step - loss: 0.5898 - acc: 0.7948 - val_loss: 0.9521 - val_acc: 0.6824\n",
            "Epoch 13/30\n",
            "98/98 [==============================] - 3s 34ms/step - loss: 0.5425 - acc: 0.8138 - val_loss: 0.9367 - val_acc: 0.6905\n",
            "Epoch 14/30\n",
            "98/98 [==============================] - 3s 34ms/step - loss: 0.5174 - acc: 0.8196 - val_loss: 0.8690 - val_acc: 0.7071\n",
            "Epoch 15/30\n",
            "98/98 [==============================] - 3s 34ms/step - loss: 0.4849 - acc: 0.8335 - val_loss: 0.9542 - val_acc: 0.6865\n",
            "Epoch 16/30\n",
            "98/98 [==============================] - 3s 34ms/step - loss: 0.4527 - acc: 0.8436 - val_loss: 0.9489 - val_acc: 0.6851\n",
            "Epoch 17/30\n",
            "98/98 [==============================] - 3s 35ms/step - loss: 0.4214 - acc: 0.8566 - val_loss: 0.8904 - val_acc: 0.7122\n",
            "Epoch 18/30\n",
            "98/98 [==============================] - 3s 34ms/step - loss: 0.3918 - acc: 0.8671 - val_loss: 1.1212 - val_acc: 0.6554\n",
            "Epoch 19/30\n",
            "98/98 [==============================] - 3s 34ms/step - loss: 0.3586 - acc: 0.8790 - val_loss: 1.0406 - val_acc: 0.6850\n",
            "Epoch 20/30\n",
            "98/98 [==============================] - 3s 34ms/step - loss: 0.3348 - acc: 0.8860 - val_loss: 0.8884 - val_acc: 0.7259\n",
            "Epoch 21/30\n",
            "98/98 [==============================] - 3s 33ms/step - loss: 0.2953 - acc: 0.9020 - val_loss: 0.9424 - val_acc: 0.7107\n",
            "Epoch 22/30\n",
            "98/98 [==============================] - 3s 33ms/step - loss: 0.2757 - acc: 0.9083 - val_loss: 1.0829 - val_acc: 0.6897\n",
            "Epoch 23/30\n",
            "98/98 [==============================] - 3s 34ms/step - loss: 0.2497 - acc: 0.9175 - val_loss: 1.1010 - val_acc: 0.6871\n",
            "Epoch 24/30\n",
            "98/98 [==============================] - 3s 33ms/step - loss: 0.2363 - acc: 0.9220 - val_loss: 1.1439 - val_acc: 0.6921\n",
            "Epoch 25/30\n",
            "98/98 [==============================] - 3s 33ms/step - loss: 0.2043 - acc: 0.9353 - val_loss: 1.0757 - val_acc: 0.7119\n",
            "Epoch 26/30\n",
            "98/98 [==============================] - 4s 36ms/step - loss: 0.1850 - acc: 0.9424 - val_loss: 1.0918 - val_acc: 0.7101\n",
            "Epoch 27/30\n",
            "98/98 [==============================] - 3s 35ms/step - loss: 0.1625 - acc: 0.9510 - val_loss: 1.1944 - val_acc: 0.6893\n",
            "Epoch 28/30\n",
            "98/98 [==============================] - 3s 33ms/step - loss: 0.1448 - acc: 0.9576 - val_loss: 1.2132 - val_acc: 0.6908\n",
            "Epoch 29/30\n",
            "98/98 [==============================] - 3s 34ms/step - loss: 0.1268 - acc: 0.9645 - val_loss: 1.0397 - val_acc: 0.7297\n",
            "Epoch 30/30\n",
            "98/98 [==============================] - 3s 36ms/step - loss: 0.1070 - acc: 0.9725 - val_loss: 1.1212 - val_acc: 0.7219\n",
            "CPU times: user 1min 18s, sys: 3.24 s, total: 1min 21s\n",
            "Wall time: 2min 23s\n"
          ]
        }
      ]
    },
    {
      "cell_type": "code",
      "source": [
        "model_BN_4.compile(optimizer='adam',\n",
        "              loss='sparse_categorical_crossentropy',\n",
        "              metrics=['acc'])"
      ],
      "metadata": {
        "id": "X2ZMed8IKKkc"
      },
      "execution_count": null,
      "outputs": []
    },
    {
      "cell_type": "code",
      "source": [
        "%%time\n",
        "epoch_n = 30\n",
        "history_BN4 = model_BN_4.fit(x_train, y_train, \n",
        "                        epochs=epoch_n,\n",
        "                        batch_size=batch_size,\n",
        "                        validation_data=(x_test, y_test)\n",
        "                        )"
      ],
      "metadata": {
        "colab": {
          "base_uri": "https://localhost:8080/"
        },
        "id": "lCA4rXTPKfTq",
        "outputId": "ad240013-8bf8-4219-997c-0b49c53df028"
      },
      "execution_count": null,
      "outputs": [
        {
          "output_type": "stream",
          "name": "stdout",
          "text": [
            "Epoch 1/30\n",
            "98/98 [==============================] - 4s 43ms/step - loss: 1.2191 - acc: 0.5685 - val_loss: 3.1886 - val_acc: 0.1153\n",
            "Epoch 2/30\n",
            "98/98 [==============================] - 4s 41ms/step - loss: 1.0633 - acc: 0.6279 - val_loss: 2.7127 - val_acc: 0.1910\n",
            "Epoch 3/30\n",
            "98/98 [==============================] - 4s 41ms/step - loss: 0.9757 - acc: 0.6610 - val_loss: 2.2618 - val_acc: 0.2986\n",
            "Epoch 4/30\n",
            "98/98 [==============================] - 4s 41ms/step - loss: 0.9118 - acc: 0.6837 - val_loss: 1.6121 - val_acc: 0.4728\n",
            "Epoch 5/30\n",
            "98/98 [==============================] - 4s 41ms/step - loss: 0.8649 - acc: 0.6991 - val_loss: 1.1440 - val_acc: 0.5996\n",
            "Epoch 6/30\n",
            "98/98 [==============================] - 4s 41ms/step - loss: 0.8395 - acc: 0.7064 - val_loss: 1.2578 - val_acc: 0.5582\n",
            "Epoch 7/30\n",
            "98/98 [==============================] - 4s 41ms/step - loss: 0.7942 - acc: 0.7242 - val_loss: 0.9379 - val_acc: 0.6816\n",
            "Epoch 8/30\n",
            "98/98 [==============================] - 4s 41ms/step - loss: 0.7846 - acc: 0.7265 - val_loss: 1.2096 - val_acc: 0.5733\n",
            "Epoch 9/30\n",
            "98/98 [==============================] - 4s 44ms/step - loss: 0.7428 - acc: 0.7437 - val_loss: 1.0202 - val_acc: 0.6452\n",
            "Epoch 10/30\n",
            "98/98 [==============================] - 4s 41ms/step - loss: 0.7155 - acc: 0.7533 - val_loss: 1.2830 - val_acc: 0.5625\n",
            "Epoch 11/30\n",
            "98/98 [==============================] - 4s 41ms/step - loss: 0.6975 - acc: 0.7591 - val_loss: 0.9269 - val_acc: 0.6731\n",
            "Epoch 12/30\n",
            "98/98 [==============================] - 4s 41ms/step - loss: 0.6753 - acc: 0.7653 - val_loss: 0.9466 - val_acc: 0.6641\n",
            "Epoch 13/30\n",
            "98/98 [==============================] - 4s 40ms/step - loss: 0.6657 - acc: 0.7694 - val_loss: 1.0834 - val_acc: 0.6217\n",
            "Epoch 14/30\n",
            "98/98 [==============================] - 4s 41ms/step - loss: 0.6463 - acc: 0.7761 - val_loss: 0.8888 - val_acc: 0.6875\n",
            "Epoch 15/30\n",
            "98/98 [==============================] - 4s 41ms/step - loss: 0.6340 - acc: 0.7784 - val_loss: 0.8678 - val_acc: 0.7044\n",
            "Epoch 16/30\n",
            "98/98 [==============================] - 4s 41ms/step - loss: 0.6183 - acc: 0.7849 - val_loss: 0.8091 - val_acc: 0.7263\n",
            "Epoch 17/30\n",
            "98/98 [==============================] - 4s 41ms/step - loss: 0.6054 - acc: 0.7902 - val_loss: 0.9045 - val_acc: 0.6920\n",
            "Epoch 18/30\n",
            "98/98 [==============================] - 4s 41ms/step - loss: 0.5912 - acc: 0.7951 - val_loss: 0.8985 - val_acc: 0.6819\n",
            "Epoch 19/30\n",
            "98/98 [==============================] - 4s 41ms/step - loss: 0.5838 - acc: 0.7956 - val_loss: 0.9723 - val_acc: 0.6606\n",
            "Epoch 20/30\n",
            "98/98 [==============================] - 4s 41ms/step - loss: 0.5636 - acc: 0.8056 - val_loss: 0.8808 - val_acc: 0.6960\n",
            "Epoch 21/30\n",
            "98/98 [==============================] - 4s 41ms/step - loss: 0.5560 - acc: 0.8072 - val_loss: 0.9348 - val_acc: 0.6718\n",
            "Epoch 22/30\n",
            "98/98 [==============================] - 4s 41ms/step - loss: 0.5463 - acc: 0.8116 - val_loss: 0.8921 - val_acc: 0.6905\n",
            "Epoch 23/30\n",
            "98/98 [==============================] - 4s 41ms/step - loss: 0.5393 - acc: 0.8147 - val_loss: 0.8742 - val_acc: 0.7018\n",
            "Epoch 24/30\n",
            "98/98 [==============================] - 4s 41ms/step - loss: 0.5264 - acc: 0.8166 - val_loss: 0.8767 - val_acc: 0.6976\n",
            "Epoch 25/30\n",
            "98/98 [==============================] - 4s 41ms/step - loss: 0.5208 - acc: 0.8192 - val_loss: 1.0256 - val_acc: 0.6417\n",
            "Epoch 26/30\n",
            "98/98 [==============================] - 4s 40ms/step - loss: 0.5106 - acc: 0.8219 - val_loss: 1.0133 - val_acc: 0.6568\n",
            "Epoch 27/30\n",
            "98/98 [==============================] - 4s 40ms/step - loss: 0.5046 - acc: 0.8256 - val_loss: 0.8389 - val_acc: 0.7095\n",
            "Epoch 28/30\n",
            "98/98 [==============================] - 4s 41ms/step - loss: 0.4999 - acc: 0.8251 - val_loss: 0.8307 - val_acc: 0.7127\n",
            "Epoch 29/30\n",
            "98/98 [==============================] - 4s 41ms/step - loss: 0.4876 - acc: 0.8301 - val_loss: 0.8275 - val_acc: 0.7117\n",
            "Epoch 30/30\n",
            "98/98 [==============================] - 4s 41ms/step - loss: 0.4894 - acc: 0.8306 - val_loss: 0.8585 - val_acc: 0.7033\n",
            "CPU times: user 1min 23s, sys: 3.4 s, total: 1min 27s\n",
            "Wall time: 2min 1s\n"
          ]
        }
      ]
    },
    {
      "cell_type": "code",
      "execution_count": null,
      "metadata": {
        "id": "8NIUn98Bc0Wy",
        "colab": {
          "base_uri": "https://localhost:8080/"
        },
        "outputId": "3165e517-f66a-43ae-bff4-b1791308a011"
      },
      "outputs": [
        {
          "output_type": "stream",
          "name": "stdout",
          "text": [
            "\t 0.6783000230789185\n",
            "\t 0.7477999925613403\n",
            "\t 0.7394999861717224\n",
            "\t 0.7297000288963318\n",
            "\t 0.7263000011444092\n"
          ]
        }
      ],
      "source": [
        "print('\\t',np.max(history_BN.history['val_acc']))\n",
        "print('\\t',np.max(history_BN1.history['val_acc']))\n",
        "print('\\t',np.max(history_BN2.history['val_acc']))\n",
        "print('\\t',np.max(history_BN3.history['val_acc']))\n",
        "print('\\t',np.max(history_BN4.history['val_acc']))\n",
        "\n",
        "# 0) 기준 모델 67.8%\n",
        "# 1) Conv Layer 추가 (2->3) + Dense(1000) 제거 (Best임) 74.8%\n",
        "# 2) BN Layer 제거 (2등) 73.9%\n",
        "# 3) Dropout Layer의 제거 73.0%\n",
        "# 4) Dense(1000)의 제거 72.6%\n"
      ]
    },
    {
      "cell_type": "code",
      "execution_count": null,
      "metadata": {
        "id": "BqR6R5xFc0W0",
        "colab": {
          "base_uri": "https://localhost:8080/",
          "height": 513
        },
        "outputId": "3da27ce4-67d4-415b-b46c-b2553b2843d3"
      },
      "outputs": [
        {
          "output_type": "display_data",
          "data": {
            "text/plain": [
              "<Figure size 576x576 with 2 Axes>"
            ],
            "image/png": "[encoded data removed]"
          },
          "metadata": {
            "needs_background": "light"
          }
        }
      ],
      "source": [
        "loss = history_BN.history['loss']\n",
        "epochs = range(1, len(loss)+1)\n",
        "\n",
        "plt.figure(figsize=(8, 8))\n",
        "plt.subplot(2, 1, 1)\n",
        "plt.title('Accuray')\n",
        "plt.plot(history_BN.history['acc'], 'g--', label='tCNN_BN')\n",
        "plt.plot(history_BN.history['val_acc'], 'g', label='vCNN_BN')\n",
        "plt.plot(history_BN1.history['acc'], 'r--', label='tCNN_BN1')\n",
        "plt.plot(history_BN1.history['val_acc'], 'r', label='vCNN_BN1')\n",
        "plt.plot(history_BN2.history['acc'], 'b--', label='tCNN_BN2')\n",
        "plt.plot(history_BN2.history['val_acc'], 'b', label='vCNN_BN2')\n",
        "plt.grid(True)\n",
        "plt.ylabel('ValidationAccuracy')\n",
        "#plt.ylim([0.6, 1])\n",
        "plt.legend(loc='best')\n",
        "\n",
        "plt.subplot(2, 1, 2)\n",
        "plt.title('Loss')\n",
        "plt.plot(history_BN.history['loss'], 'g--', label='tCNN_BN')\n",
        "plt.plot(history_BN.history['val_loss'], 'g', label='vCNN_BN')\n",
        "plt.plot(history_BN1.history['loss'], 'r--', label='tCNN_BN1')\n",
        "plt.plot(history_BN1.history['val_loss'], 'r', label='vCNN_BN1')\n",
        "plt.plot(history_BN2.history['loss'], 'b--', label='tCNN_BN2')\n",
        "plt.plot(history_BN2.history['val_loss'], 'b', label='vCNN_BN2')\n",
        "\n",
        "plt.grid(True)\n",
        "plt.xlabel('Epoch')\n",
        "plt.ylabel('Loss')\n",
        "#plt.semilogy()\n",
        "#plt.ylim([0.0, 1])\n",
        "plt.legend(loc='best')\n",
        "plt.show()\n"
      ]
    },
    {
      "cell_type": "markdown",
      "metadata": {
        "id": "0jlWZDs4KJPT"
      },
      "source": [
        "## 과제3 : Feature Maps 확인"
      ]
    },
    {
      "cell_type": "markdown",
      "metadata": {
        "id": "Il2qZ9-_KJQC"
      },
      "source": [
        "* 과제2에서 학습된 모델에서  \n",
        "* 모든 Conv Layer의 Feature Map을 시각화 해보자  \n",
        "* 첫번째 MaxPool2D layer 입출력 Feature Map을 시각화 해보자 "
      ]
    },
    {
      "cell_type": "markdown",
      "metadata": {
        "id": "m4kAr8XNg2nc"
      },
      "source": [
        " Filter Plotting"
      ]
    },
    {
      "cell_type": "code",
      "execution_count": null,
      "metadata": {
        "id": "R32eGiDhZ1Sn",
        "colab": {
          "base_uri": "https://localhost:8080/"
        },
        "outputId": "e7d6fee0-cee2-4c88-b8fd-d24f27ac91dc"
      },
      "outputs": [
        {
          "output_type": "stream",
          "name": "stdout",
          "text": [
            "[0]th layer:conv2d_4  (3, 3, 3, 64)\n",
            "[5]th layer:conv2d_5  (3, 3, 64, 64)\n"
          ]
        }
      ],
      "source": [
        "# summarize filter shapes\n",
        "filter_list_best = []\n",
        "for i,layer in enumerate(model_BN.layers):\n",
        "    # check for convolutional layer\n",
        "    if 'conv' not in layer.name: \n",
        "        continue #'conv'가 포함되지 않으면 skip\n",
        "    # get filter weights\n",
        "    filters = layer.get_weights()\n",
        "    filter_list.append(filters[0]) #use_bias=False\n",
        "    print(f'[{i}]th layer:{layer.name}  {filters[0].shape}')"
      ]
    },
    {
      "cell_type": "code",
      "execution_count": null,
      "metadata": {
        "id": "iSbh4rNmR8sI"
      },
      "outputs": [],
      "source": [
        "# plot n x n images\n",
        "def square(imgs, n):\n",
        "    img_num = n\n",
        "    plt.figure(figsize=(10,10))\n",
        "    print(f'min[{np.min(imgs):2.2f}],max[{np.max(imgs):2.2f}]')\n",
        "    f_min, f_max = imgs.min(), imgs.max() #(3,3,64,64)\n",
        "    imgs = (imgs - f_min) / (f_max - f_min) \n",
        "    for i in range(n):\n",
        "        for j in range(n):\n",
        "            p_num = i*n + j         \n",
        "            ax = plt.subplot(n, n, p_num+1)#(row,col,index)\n",
        "            ax.set_xticks([])\n",
        "            ax.set_yticks([])\n",
        "            # plot filter channel in grayscale\n",
        "            plt.imshow(imgs[:, :, p_num], cmap='gray')\n",
        "    plt.show()"
      ]
    },
    {
      "cell_type": "code",
      "execution_count": null,
      "metadata": {
        "id": "Zmr7qZJ0k-Zy",
        "colab": {
          "base_uri": "https://localhost:8080/"
        },
        "outputId": "93d963e6-4301-40c5-908b-61869849f2c6"
      },
      "outputs": [
        {
          "output_type": "execute_result",
          "data": {
            "text/plain": [
              "<KerasTensor: shape=(None, 32, 32, 64) dtype=float32 (created by layer 'batch_normalization_4')>"
            ]
          },
          "metadata": {},
          "execution_count": 27
        }
      ],
      "source": [
        "model_BN.layers[1].output"
      ]
    },
    {
      "cell_type": "code",
      "execution_count": null,
      "metadata": {
        "id": "FidlzOAQvSQm",
        "tags": []
      },
      "outputs": [],
      "source": [
        "# model_BN의 12레이어 중에 일부 레이처 출력을 추출하는 모델 \n",
        "ex_l = [1, 5, 9]  # 추출할 레이어 지정 \n",
        "# model_BN.layers.output : tensor data \n",
        "layer_outputs = [model_BN.layers[i].output for i in ex_l]\n",
        "\n",
        "### 새로운 모델 생성, \n",
        "# 기존 모델의 parameter까지 copy,\n",
        "# compile하면 안됨(parameter 초기화됨)\n",
        "# 기존모델과 독립된 새로운 모델\n",
        "fm_model = Model(inputs=model_BN.input, outputs=layer_outputs)   \n",
        "\n",
        "#fm_model.summary()\n",
        "#keras.utils.plot_model(fm_model,show_layer_names=True,show_shapes=True)  "
      ]
    },
    {
      "cell_type": "code",
      "execution_count": null,
      "metadata": {
        "id": "obOHDAQxN6Fs"
      },
      "outputs": [],
      "source": [
        "# Returns a list of five Numpy arrays of layer activation\n",
        "n=0 # 첫번째 이미지를 넣고 추론하면서, feature를 반환 받음\n",
        "#[(1,28,28,64),(1,14,14,64),(1,7,7,64)]\n",
        "feature_maps = fm_model.predict(x_test[n:n+1,:]) \n",
        "layers_names = fm_model.output_names "
      ]
    },
    {
      "cell_type": "code",
      "execution_count": null,
      "metadata": {
        "id": "82yBeAulX5eN",
        "tags": [],
        "colab": {
          "base_uri": "https://localhost:8080/",
          "height": 615
        },
        "outputId": "71e2da3e-08e6-4ea5-a66a-895a93fa3f61"
      },
      "outputs": [
        {
          "output_type": "stream",
          "name": "stdout",
          "text": [
            "max_pooling2d_5\n",
            "min[0.00],max[0.43]\n"
          ]
        },
        {
          "output_type": "display_data",
          "data": {
            "text/plain": [
              "<Figure size 720x720 with 64 Axes>"
            ],
            "image/png": "[encoded data removed]"
          },
          "metadata": {}
        }
      ],
      "source": [
        "print(layers_names[2])\n",
        "square(feature_maps[2][0], 8)"
      ]
    },
    {
      "cell_type": "code",
      "source": [
        "# 과제2. Best 모델의 Feature Map 확인"
      ],
      "metadata": {
        "id": "Cg2eDNX2L31U"
      },
      "execution_count": null,
      "outputs": []
    },
    {
      "cell_type": "code",
      "source": [
        "# summarize filter shapes\n",
        "filter_list_best = []\n",
        "for i,layer in enumerate(model_BN_1.layers):\n",
        "    # check for convolutional layer\n",
        "    if 'conv' not in layer.name: \n",
        "        continue #'conv'가 포함되지 않으면 skip\n",
        "    # get filter weights\n",
        "    filters = layer.get_weights()\n",
        "    filter_list_best.append(filters[0]) #use_bias=False\n",
        "    print(f'[{i}]th layer:{layer.name}  {filters[0].shape}')\n",
        "\n",
        "model_BN_1.layers[1].output  "
      ],
      "metadata": {
        "colab": {
          "base_uri": "https://localhost:8080/"
        },
        "id": "-4WHK6OdL3SN",
        "outputId": "4720e129-2f0d-441b-c530-d85de3883355"
      },
      "execution_count": null,
      "outputs": [
        {
          "output_type": "stream",
          "name": "stdout",
          "text": [
            "[0]th layer:conv2d_14  (3, 3, 3, 64)\n",
            "[5]th layer:conv2d_15  (3, 3, 64, 64)\n",
            "[10]th layer:conv2d_16  (3, 3, 64, 64)\n"
          ]
        },
        {
          "output_type": "execute_result",
          "data": {
            "text/plain": [
              "<KerasTensor: shape=(None, 32, 32, 64) dtype=float32 (created by layer 'batch_normalization_12')>"
            ]
          },
          "metadata": {},
          "execution_count": 62
        }
      ]
    },
    {
      "cell_type": "code",
      "source": [
        "# model_BN의 12레이어 중에 일부 레이처 출력을 추출하는 모델 \n",
        "ex_l = [1, 5, 9]  # 추출할 레이어 지정 \n",
        "# model_BN.layers.output : tensor data \n",
        "layer_outputs_best = [model_BN_1.layers[i].output for i in ex_l]\n",
        "\n",
        "### 새로운 모델 생성, \n",
        "# 기존 모델의 parameter까지 copy,\n",
        "# compile하면 안됨(parameter 초기화됨)\n",
        "# 기존모델과 독립된 새로운 모델\n",
        "fm_model_best = Model(inputs=model_BN_1.input, outputs=layer_outputs_best)   \n",
        "\n",
        "#fm_model.summary()\n",
        "#keras.utils.plot_model(fm_model,show_layer_names=True,show_shapes=True)  \n",
        "\n"
      ],
      "metadata": {
        "id": "tA3jaua-L219"
      },
      "execution_count": null,
      "outputs": []
    },
    {
      "cell_type": "code",
      "source": [
        "# Returns a list of five Numpy arrays of layer activation\n",
        "n=0 # 첫번째 이미지를 넣고 추론하면서, feature를 반환 받음\n",
        "#[(1,28,28,64),(1,14,14,64),(1,7,7,64)]\n",
        "feature_maps = fm_model_best.predict(x_test[n:n+1,:]) \n",
        "layers_names = fm_model_best.output_names "
      ],
      "metadata": {
        "id": "1GyI2F8CMYct"
      },
      "execution_count": null,
      "outputs": []
    },
    {
      "cell_type": "code",
      "source": [
        "# 뭔가 더 지저분함..\n",
        "print(layers_names[2])\n",
        "square(feature_maps[2][0], 8)"
      ],
      "metadata": {
        "colab": {
          "base_uri": "https://localhost:8080/",
          "height": 615
        },
        "id": "bqhVTHWZPEq0",
        "outputId": "d0d02398-3876-462e-9399-0386a6bc1851"
      },
      "execution_count": null,
      "outputs": [
        {
          "output_type": "stream",
          "name": "stdout",
          "text": [
            "max_pooling2d_15\n",
            "min[0.00],max[3.42]\n"
          ]
        },
        {
          "output_type": "display_data",
          "data": {
            "text/plain": [
              "<Figure size 720x720 with 64 Axes>"
            ],
            "image/png": "[encoded data removed]"
          },
          "metadata": {}
        }
      ]
    },
    {
      "cell_type": "markdown",
      "metadata": {
        "id": "rV_dMgQSPkas"
      },
      "source": [
        "## 과제4: learning rate schedule 적용\n"
      ]
    },
    {
      "cell_type": "markdown",
      "source": [
        "* epochs를 100까지 늘리고 \n",
        "* decay_steps와 decay_rate를 수정하여    \n",
        "* 학습이 안정적으로 종료되도록 하자  "
      ],
      "metadata": {
        "id": "nCX-6dfRgbKf"
      }
    },
    {
      "cell_type": "markdown",
      "metadata": {
        "id": "4KVsEj_1PnBY"
      },
      "source": [
        "- ManualDecay / ExponentialDecay"
      ]
    },
    {
      "cell_type": "code",
      "execution_count": null,
      "metadata": {
        "id": "gY8FzfeFPnBb"
      },
      "outputs": [],
      "source": [
        "## Exponential decay scheduler\n",
        "starter_learning_rate = 0.001 #0.01\n",
        "decay_steps = 20  #10\n",
        "decay_rate=0.3  #0.7 밑에 코드가 이미 있군요.. 감사합니다 ㅎㅎ\n",
        "def ExponentialDecay(step,staircase=True):\n",
        "    if staircase :\n",
        "        return starter_learning_rate * decay_rate ** (step // decay_steps)\n",
        "    return starter_learning_rate * decay_rate ** (step / decay_steps)"
      ]
    },
    {
      "cell_type": "code",
      "source": [
        "starter_learning_rate = 0.001\n",
        "decay_steps = 20\n",
        "decay_rate=0.3\n",
        "epochs=100\n",
        "lr_s=[]\n",
        "for step in range(epochs):\n",
        "    lr_s.append(ExponentialDecay(step))\n",
        "\n",
        "plt.plot(lr_s, linestyle='--', label=\"ExponentialDecay_step\")\n",
        "plt.legend()\n",
        "plt.grid()\n",
        "plt.show()"
      ],
      "metadata": {
        "id": "f7czkGCZDnQn",
        "colab": {
          "base_uri": "https://localhost:8080/",
          "height": 265
        },
        "outputId": "46937171-8eb7-41ae-e3ef-30f584854a77"
      },
      "execution_count": null,
      "outputs": [
        {
          "output_type": "display_data",
          "data": {
            "text/plain": [
              "<Figure size 432x288 with 1 Axes>"
            ],
            "image/png": "[encoded data removed]"
          },
          "metadata": {
            "needs_background": "light"
          }
        }
      ]
    },
    {
      "cell_type": "code",
      "source": [
        "## 초기 기준 모델 base로 (BN)\n",
        "## lr Expo. Decay 모델 적용한 결과임. (BN3)\n",
        "\n",
        "model_BN3=model_cnn_batchnormal()"
      ],
      "metadata": {
        "id": "BAf52AMoijjR"
      },
      "execution_count": null,
      "outputs": []
    },
    {
      "cell_type": "code",
      "execution_count": null,
      "metadata": {
        "id": "nAw4HRJGijjU"
      },
      "outputs": [],
      "source": [
        "model_BN3.compile(optimizer='adam',\n",
        "              loss='sparse_categorical_crossentropy',\n",
        "              metrics=['acc'])"
      ]
    },
    {
      "cell_type": "code",
      "execution_count": null,
      "metadata": {
        "scrolled": true,
        "tags": [],
        "collapsed": true,
        "id": "gt_A2tpMi6z7",
        "colab": {
          "base_uri": "https://localhost:8080/"
        },
        "outputId": "b9cc9079-7f3a-4b91-fb18-724c3d5dfe11"
      },
      "outputs": [
        {
          "output_type": "stream",
          "name": "stdout",
          "text": [
            "Epoch 1/30\n",
            "98/98 [==============================] - 5s 49ms/step - loss: 2.9955 - acc: 0.3301 - val_loss: 2.6978 - val_acc: 0.1127 - lr: 0.0010\n",
            "Epoch 2/30\n",
            "98/98 [==============================] - 4s 45ms/step - loss: 1.4154 - acc: 0.4889 - val_loss: 3.3369 - val_acc: 0.0999 - lr: 0.0010\n",
            "Epoch 3/30\n",
            "98/98 [==============================] - 4s 44ms/step - loss: 1.2143 - acc: 0.5655 - val_loss: 3.4456 - val_acc: 0.1004 - lr: 0.0010\n",
            "Epoch 4/30\n",
            "98/98 [==============================] - 4s 44ms/step - loss: 1.0816 - acc: 0.6150 - val_loss: 2.6736 - val_acc: 0.1581 - lr: 0.0010\n",
            "Epoch 5/30\n",
            "98/98 [==============================] - 4s 43ms/step - loss: 0.9609 - acc: 0.6598 - val_loss: 2.0345 - val_acc: 0.2862 - lr: 0.0010\n",
            "Epoch 6/30\n",
            "98/98 [==============================] - 4s 43ms/step - loss: 0.8835 - acc: 0.6922 - val_loss: 1.3605 - val_acc: 0.5347 - lr: 0.0010\n",
            "Epoch 7/30\n",
            "98/98 [==============================] - 4s 43ms/step - loss: 0.8202 - acc: 0.7133 - val_loss: 1.1622 - val_acc: 0.5908 - lr: 0.0010\n",
            "Epoch 8/30\n",
            "98/98 [==============================] - 4s 43ms/step - loss: 0.7783 - acc: 0.7272 - val_loss: 1.0115 - val_acc: 0.6449 - lr: 0.0010\n",
            "Epoch 9/30\n",
            "98/98 [==============================] - 4s 44ms/step - loss: 0.7377 - acc: 0.7437 - val_loss: 0.9603 - val_acc: 0.6731 - lr: 0.0010\n",
            "Epoch 10/30\n",
            "98/98 [==============================] - 4s 44ms/step - loss: 0.6983 - acc: 0.7565 - val_loss: 0.8941 - val_acc: 0.6893 - lr: 0.0010\n",
            "Epoch 11/30\n",
            "98/98 [==============================] - 4s 44ms/step - loss: 0.6710 - acc: 0.7671 - val_loss: 0.9020 - val_acc: 0.6778 - lr: 0.0010\n",
            "Epoch 12/30\n",
            "98/98 [==============================] - 4s 44ms/step - loss: 0.6328 - acc: 0.7801 - val_loss: 0.9429 - val_acc: 0.6688 - lr: 0.0010\n",
            "Epoch 13/30\n",
            "98/98 [==============================] - 4s 44ms/step - loss: 0.6055 - acc: 0.7899 - val_loss: 0.9652 - val_acc: 0.6728 - lr: 0.0010\n",
            "Epoch 14/30\n",
            "98/98 [==============================] - 4s 44ms/step - loss: 0.5692 - acc: 0.8031 - val_loss: 1.1934 - val_acc: 0.6027 - lr: 0.0010\n",
            "Epoch 15/30\n",
            "98/98 [==============================] - 4s 44ms/step - loss: 0.5476 - acc: 0.8099 - val_loss: 0.8310 - val_acc: 0.7096 - lr: 0.0010\n",
            "Epoch 16/30\n",
            "98/98 [==============================] - 4s 44ms/step - loss: 0.5138 - acc: 0.8200 - val_loss: 1.1664 - val_acc: 0.6127 - lr: 0.0010\n",
            "Epoch 17/30\n",
            "98/98 [==============================] - 4s 44ms/step - loss: 0.4955 - acc: 0.8255 - val_loss: 0.9005 - val_acc: 0.6891 - lr: 0.0010\n",
            "Epoch 18/30\n",
            "98/98 [==============================] - 4s 44ms/step - loss: 0.4605 - acc: 0.8410 - val_loss: 1.1074 - val_acc: 0.6276 - lr: 0.0010\n",
            "Epoch 19/30\n",
            "98/98 [==============================] - 4s 44ms/step - loss: 0.4425 - acc: 0.8478 - val_loss: 0.8304 - val_acc: 0.7109 - lr: 0.0010\n",
            "Epoch 20/30\n",
            "98/98 [==============================] - 4s 44ms/step - loss: 0.4150 - acc: 0.8557 - val_loss: 0.9388 - val_acc: 0.6817 - lr: 0.0010\n",
            "Epoch 21/30\n",
            "98/98 [==============================] - 4s 44ms/step - loss: 0.3318 - acc: 0.8906 - val_loss: 0.7315 - val_acc: 0.7488 - lr: 3.0000e-04\n",
            "Epoch 22/30\n",
            "98/98 [==============================] - 4s 44ms/step - loss: 0.3136 - acc: 0.8989 - val_loss: 0.7561 - val_acc: 0.7433 - lr: 3.0000e-04\n",
            "Epoch 23/30\n",
            "98/98 [==============================] - 4s 44ms/step - loss: 0.3049 - acc: 0.9015 - val_loss: 0.7532 - val_acc: 0.7410 - lr: 3.0000e-04\n",
            "Epoch 24/30\n",
            "98/98 [==============================] - 4s 44ms/step - loss: 0.2958 - acc: 0.9044 - val_loss: 0.7079 - val_acc: 0.7581 - lr: 3.0000e-04\n",
            "Epoch 25/30\n",
            "98/98 [==============================] - 4s 44ms/step - loss: 0.2887 - acc: 0.9077 - val_loss: 0.7530 - val_acc: 0.7457 - lr: 3.0000e-04\n",
            "Epoch 26/30\n",
            "98/98 [==============================] - 4s 44ms/step - loss: 0.2786 - acc: 0.9111 - val_loss: 0.7626 - val_acc: 0.7415 - lr: 3.0000e-04\n",
            "Epoch 27/30\n",
            "98/98 [==============================] - 4s 44ms/step - loss: 0.2712 - acc: 0.9125 - val_loss: 0.7659 - val_acc: 0.7420 - lr: 3.0000e-04\n",
            "Epoch 28/30\n",
            "98/98 [==============================] - 4s 44ms/step - loss: 0.2653 - acc: 0.9145 - val_loss: 0.7396 - val_acc: 0.7525 - lr: 3.0000e-04\n",
            "Epoch 29/30\n",
            "98/98 [==============================] - 4s 44ms/step - loss: 0.2536 - acc: 0.9198 - val_loss: 0.8564 - val_acc: 0.7164 - lr: 3.0000e-04\n",
            "Epoch 30/30\n",
            "98/98 [==============================] - 4s 44ms/step - loss: 0.2449 - acc: 0.9222 - val_loss: 0.7357 - val_acc: 0.7513 - lr: 3.0000e-04\n",
            "CPU times: user 1min 30s, sys: 3.54 s, total: 1min 34s\n",
            "Wall time: 2min 10s\n"
          ]
        }
      ],
      "source": [
        "%%time\n",
        "epoch_n = 30\n",
        "batch_n = 512\n",
        "\n",
        "my_callbacks = [keras.callbacks.LearningRateScheduler(ExponentialDecay)]\n",
        "\n",
        "history_BN3 = model_BN3.fit(x_train, y_train, \n",
        "                        shuffle=True,\n",
        "                        batch_size=batch_n, \n",
        "                        epochs=epoch_n,\n",
        "                        callbacks=my_callbacks,\n",
        "                        validation_data=(x_test, y_test)\n",
        "                        )"
      ]
    },
    {
      "cell_type": "code",
      "execution_count": null,
      "metadata": {
        "id": "N1Kb22fOjsnP",
        "colab": {
          "base_uri": "https://localhost:8080/"
        },
        "outputId": "9074e1be-5610-4769-d93d-035ace63ff0d"
      },
      "outputs": [
        {
          "output_type": "stream",
          "name": "stdout",
          "text": [
            "\t 0.7267000079154968\n",
            "\t 0.7580999732017517\n"
          ]
        }
      ],
      "source": [
        "print('\\t',np.max(history_BN2.history['val_acc']))\n",
        "print('\\t',np.max(history_BN3.history['val_acc']))"
      ]
    },
    {
      "cell_type": "code",
      "execution_count": null,
      "metadata": {
        "id": "K-jAWFNQjsna",
        "colab": {
          "base_uri": "https://localhost:8080/",
          "height": 513
        },
        "outputId": "6da61c49-0f0e-43b0-b50b-574921de0d4d"
      },
      "outputs": [
        {
          "output_type": "display_data",
          "data": {
            "text/plain": [
              "<Figure size 576x576 with 2 Axes>"
            ],
            "image/png": "[encoded data removed]"
          },
          "metadata": {
            "needs_background": "light"
          }
        }
      ],
      "source": [
        "loss = history_BN3.history['loss']\n",
        "epochs = range(1, len(loss)+1)\n",
        "\n",
        "plt.figure(figsize=(8, 8))\n",
        "plt.subplot(2, 1, 1)\n",
        "plt.title('Accuray')\n",
        "\n",
        "plt.plot(history_BN.history['acc'], 'g--', label='tCNN_BN2')\n",
        "plt.plot(history_BN.history['val_acc'], 'g', label='vCNN_BN2')\n",
        "plt.plot(history_BN3.history['acc'], 'r--', label='tCNN_BN3')\n",
        "plt.plot(history_BN3.history['val_acc'], 'r', label='vCNN_BN3')\n",
        "plt.grid(True)\n",
        "plt.ylabel('ValidationAccuracy')\n",
        "#plt.ylim([0.6, 1])\n",
        "plt.legend(loc='best')\n",
        "\n",
        "plt.subplot(2, 1, 2)\n",
        "plt.title('Loss')\n",
        "plt.plot(history_BN.history['loss'], 'g--', label='tCNN_BN2')\n",
        "plt.plot(history_BN.history['val_loss'], 'g', label='vCNN_BN2')\n",
        "plt.plot(history_BN3.history['loss'], 'r--', label='tCNN_BN3')\n",
        "plt.plot(history_BN3.history['val_loss'], 'r', label='vCNN_BN3')\n",
        "\n",
        "plt.grid(True)\n",
        "plt.xlabel('Epoch')\n",
        "plt.ylabel('Loss')\n",
        "#plt.semilogy()\n",
        "#plt.ylim([0.0, 1])\n",
        "plt.legend(loc='best')\n",
        "plt.show()\n"
      ]
    },
    {
      "cell_type": "code",
      "source": [
        "## 초기 기준 모델 base로 (BN)\n",
        "## lr Expo. Decay 모델 적용한 결과임. (BN3)\n",
        "## best 조건 기반, Ir 모델 적용 (BN1_best)\n",
        "\n",
        "model_BN1_best=model_cnn_batchnormal_1()"
      ],
      "metadata": {
        "id": "1oa7CXV8G38s"
      },
      "execution_count": null,
      "outputs": []
    },
    {
      "cell_type": "code",
      "source": [
        "model_BN1_best.compile(optimizer='adam',\n",
        "              loss='sparse_categorical_crossentropy',\n",
        "              metrics=['acc'])"
      ],
      "metadata": {
        "id": "q5KMDpIrPpCM"
      },
      "execution_count": null,
      "outputs": []
    },
    {
      "cell_type": "code",
      "source": [
        "%%time\n",
        "epoch_n = 100\n",
        "\n",
        "my_callbacks = [keras.callbacks.LearningRateScheduler(ExponentialDecay)]\n",
        "\n",
        "history_BN1_best = model_BN1_best.fit(x_train, y_train, \n",
        "                        batch_size=batch_n, \n",
        "                        epochs=epoch_n,\n",
        "                        callbacks=my_callbacks,\n",
        "                        validation_data=(x_test, y_test)\n",
        "                        )"
      ],
      "metadata": {
        "colab": {
          "base_uri": "https://localhost:8080/"
        },
        "id": "JIShAvnUPpEZ",
        "outputId": "689fb433-774f-4793-8c67-30ce7e342ee5"
      },
      "execution_count": null,
      "outputs": [
        {
          "output_type": "stream",
          "name": "stdout",
          "text": [
            "Epoch 1/100\n",
            "98/98 [==============================] - 5s 48ms/step - loss: 1.6143 - acc: 0.4349 - val_loss: 2.7554 - val_acc: 0.1000 - lr: 0.0010\n",
            "Epoch 2/100\n",
            "98/98 [==============================] - 4s 44ms/step - loss: 1.1914 - acc: 0.5759 - val_loss: 3.1363 - val_acc: 0.0999 - lr: 0.0010\n",
            "Epoch 3/100\n",
            "98/98 [==============================] - 4s 44ms/step - loss: 1.0308 - acc: 0.6380 - val_loss: 2.8893 - val_acc: 0.1080 - lr: 0.0010\n",
            "Epoch 4/100\n",
            "98/98 [==============================] - 5s 51ms/step - loss: 0.9360 - acc: 0.6717 - val_loss: 2.1021 - val_acc: 0.2619 - lr: 0.0010\n",
            "Epoch 5/100\n",
            "98/98 [==============================] - 5s 47ms/step - loss: 0.8533 - acc: 0.7038 - val_loss: 1.8098 - val_acc: 0.3105 - lr: 0.0010\n",
            "Epoch 6/100\n",
            "98/98 [==============================] - 4s 46ms/step - loss: 0.8090 - acc: 0.7218 - val_loss: 1.4789 - val_acc: 0.4406 - lr: 0.0010\n",
            "Epoch 7/100\n",
            "98/98 [==============================] - 4s 45ms/step - loss: 0.7640 - acc: 0.7358 - val_loss: 1.3206 - val_acc: 0.5373 - lr: 0.0010\n",
            "Epoch 8/100\n",
            "98/98 [==============================] - 4s 45ms/step - loss: 0.7279 - acc: 0.7486 - val_loss: 1.3554 - val_acc: 0.5260 - lr: 0.0010\n",
            "Epoch 9/100\n",
            "98/98 [==============================] - 4s 44ms/step - loss: 0.6973 - acc: 0.7585 - val_loss: 1.2748 - val_acc: 0.5394 - lr: 0.0010\n",
            "Epoch 10/100\n",
            "98/98 [==============================] - 4s 45ms/step - loss: 0.6780 - acc: 0.7682 - val_loss: 1.3870 - val_acc: 0.5259 - lr: 0.0010\n",
            "Epoch 11/100\n",
            "98/98 [==============================] - 4s 45ms/step - loss: 0.6503 - acc: 0.7754 - val_loss: 0.9248 - val_acc: 0.6633 - lr: 0.0010\n",
            "Epoch 12/100\n",
            "98/98 [==============================] - 4s 44ms/step - loss: 0.6291 - acc: 0.7810 - val_loss: 1.0108 - val_acc: 0.6512 - lr: 0.0010\n",
            "Epoch 13/100\n",
            "98/98 [==============================] - 4s 45ms/step - loss: 0.6062 - acc: 0.7911 - val_loss: 1.3748 - val_acc: 0.5228 - lr: 0.0010\n",
            "Epoch 14/100\n",
            "98/98 [==============================] - 5s 48ms/step - loss: 0.5974 - acc: 0.7932 - val_loss: 0.8443 - val_acc: 0.7134 - lr: 0.0010\n",
            "Epoch 15/100\n",
            "98/98 [==============================] - 5s 48ms/step - loss: 0.5740 - acc: 0.8009 - val_loss: 1.2346 - val_acc: 0.5919 - lr: 0.0010\n",
            "Epoch 16/100\n",
            "98/98 [==============================] - 4s 46ms/step - loss: 0.5626 - acc: 0.8051 - val_loss: 1.5392 - val_acc: 0.5021 - lr: 0.0010\n",
            "Epoch 17/100\n",
            "98/98 [==============================] - 4s 46ms/step - loss: 0.5478 - acc: 0.8091 - val_loss: 1.0719 - val_acc: 0.6180 - lr: 0.0010\n",
            "Epoch 18/100\n",
            "98/98 [==============================] - 4s 44ms/step - loss: 0.5344 - acc: 0.8130 - val_loss: 1.0145 - val_acc: 0.6398 - lr: 0.0010\n",
            "Epoch 19/100\n",
            "98/98 [==============================] - 4s 44ms/step - loss: 0.5146 - acc: 0.8203 - val_loss: 1.1135 - val_acc: 0.6136 - lr: 0.0010\n",
            "Epoch 20/100\n",
            "98/98 [==============================] - 4s 44ms/step - loss: 0.5067 - acc: 0.8241 - val_loss: 0.9574 - val_acc: 0.6596 - lr: 0.0010\n",
            "Epoch 21/100\n",
            "98/98 [==============================] - 4s 44ms/step - loss: 0.4559 - acc: 0.8421 - val_loss: 0.9172 - val_acc: 0.6707 - lr: 3.0000e-04\n",
            "Epoch 22/100\n",
            "98/98 [==============================] - 4s 44ms/step - loss: 0.4435 - acc: 0.8486 - val_loss: 0.9737 - val_acc: 0.6553 - lr: 3.0000e-04\n",
            "Epoch 23/100\n",
            "98/98 [==============================] - 4s 44ms/step - loss: 0.4389 - acc: 0.8497 - val_loss: 0.9688 - val_acc: 0.6559 - lr: 3.0000e-04\n",
            "Epoch 24/100\n",
            "98/98 [==============================] - 4s 44ms/step - loss: 0.4331 - acc: 0.8519 - val_loss: 1.0184 - val_acc: 0.6484 - lr: 3.0000e-04\n",
            "Epoch 25/100\n",
            "98/98 [==============================] - 4s 44ms/step - loss: 0.4322 - acc: 0.8513 - val_loss: 0.8404 - val_acc: 0.7027 - lr: 3.0000e-04\n",
            "Epoch 26/100\n",
            "98/98 [==============================] - 4s 44ms/step - loss: 0.4249 - acc: 0.8540 - val_loss: 0.9322 - val_acc: 0.6722 - lr: 3.0000e-04\n",
            "Epoch 27/100\n",
            "98/98 [==============================] - 4s 44ms/step - loss: 0.4202 - acc: 0.8555 - val_loss: 0.9194 - val_acc: 0.6842 - lr: 3.0000e-04\n",
            "Epoch 28/100\n",
            "98/98 [==============================] - 4s 44ms/step - loss: 0.4188 - acc: 0.8553 - val_loss: 0.8594 - val_acc: 0.7043 - lr: 3.0000e-04\n",
            "Epoch 29/100\n",
            "98/98 [==============================] - 4s 44ms/step - loss: 0.4187 - acc: 0.8572 - val_loss: 0.7720 - val_acc: 0.7406 - lr: 3.0000e-04\n",
            "Epoch 30/100\n",
            "98/98 [==============================] - 4s 44ms/step - loss: 0.4128 - acc: 0.8570 - val_loss: 0.8272 - val_acc: 0.7115 - lr: 3.0000e-04\n",
            "Epoch 31/100\n",
            "98/98 [==============================] - 4s 44ms/step - loss: 0.4080 - acc: 0.8582 - val_loss: 0.7301 - val_acc: 0.7434 - lr: 3.0000e-04\n",
            "Epoch 32/100\n",
            "98/98 [==============================] - 4s 44ms/step - loss: 0.4019 - acc: 0.8605 - val_loss: 0.7691 - val_acc: 0.7290 - lr: 3.0000e-04\n",
            "Epoch 33/100\n",
            "98/98 [==============================] - 4s 45ms/step - loss: 0.3992 - acc: 0.8621 - val_loss: 0.8288 - val_acc: 0.7086 - lr: 3.0000e-04\n",
            "Epoch 34/100\n",
            "98/98 [==============================] - 4s 44ms/step - loss: 0.3963 - acc: 0.8625 - val_loss: 0.8283 - val_acc: 0.7086 - lr: 3.0000e-04\n",
            "Epoch 35/100\n",
            "98/98 [==============================] - 4s 44ms/step - loss: 0.3911 - acc: 0.8649 - val_loss: 0.8235 - val_acc: 0.7138 - lr: 3.0000e-04\n",
            "Epoch 36/100\n",
            "98/98 [==============================] - 4s 46ms/step - loss: 0.3904 - acc: 0.8653 - val_loss: 0.8485 - val_acc: 0.7024 - lr: 3.0000e-04\n",
            "Epoch 37/100\n",
            "98/98 [==============================] - 4s 44ms/step - loss: 0.3833 - acc: 0.8671 - val_loss: 0.9887 - val_acc: 0.6579 - lr: 3.0000e-04\n",
            "Epoch 38/100\n",
            "98/98 [==============================] - 4s 44ms/step - loss: 0.3816 - acc: 0.8668 - val_loss: 0.8513 - val_acc: 0.7034 - lr: 3.0000e-04\n",
            "Epoch 39/100\n",
            "98/98 [==============================] - 4s 44ms/step - loss: 0.3760 - acc: 0.8706 - val_loss: 0.8877 - val_acc: 0.6967 - lr: 3.0000e-04\n",
            "Epoch 40/100\n",
            "98/98 [==============================] - 4s 44ms/step - loss: 0.3790 - acc: 0.8678 - val_loss: 0.8333 - val_acc: 0.7124 - lr: 3.0000e-04\n",
            "Epoch 41/100\n",
            "98/98 [==============================] - 4s 44ms/step - loss: 0.3577 - acc: 0.8760 - val_loss: 0.7884 - val_acc: 0.7266 - lr: 9.0000e-05\n",
            "Epoch 42/100\n",
            "98/98 [==============================] - 4s 44ms/step - loss: 0.3515 - acc: 0.8790 - val_loss: 0.7985 - val_acc: 0.7205 - lr: 9.0000e-05\n",
            "Epoch 43/100\n",
            "98/98 [==============================] - 4s 44ms/step - loss: 0.3527 - acc: 0.8788 - val_loss: 0.7810 - val_acc: 0.7279 - lr: 9.0000e-05\n",
            "Epoch 44/100\n",
            "98/98 [==============================] - 4s 44ms/step - loss: 0.3534 - acc: 0.8792 - val_loss: 0.7610 - val_acc: 0.7337 - lr: 9.0000e-05\n",
            "Epoch 45/100\n",
            "98/98 [==============================] - 4s 44ms/step - loss: 0.3487 - acc: 0.8792 - val_loss: 0.7831 - val_acc: 0.7289 - lr: 9.0000e-05\n",
            "Epoch 46/100\n",
            "98/98 [==============================] - 4s 44ms/step - loss: 0.3487 - acc: 0.8805 - val_loss: 0.7387 - val_acc: 0.7431 - lr: 9.0000e-05\n",
            "Epoch 47/100\n",
            "98/98 [==============================] - 4s 44ms/step - loss: 0.3457 - acc: 0.8810 - val_loss: 0.7600 - val_acc: 0.7370 - lr: 9.0000e-05\n",
            "Epoch 48/100\n",
            "98/98 [==============================] - 4s 44ms/step - loss: 0.3455 - acc: 0.8816 - val_loss: 0.7471 - val_acc: 0.7428 - lr: 9.0000e-05\n",
            "Epoch 49/100\n",
            "98/98 [==============================] - 4s 44ms/step - loss: 0.3441 - acc: 0.8811 - val_loss: 0.7167 - val_acc: 0.7505 - lr: 9.0000e-05\n",
            "Epoch 50/100\n",
            "98/98 [==============================] - 4s 44ms/step - loss: 0.3442 - acc: 0.8812 - val_loss: 0.7686 - val_acc: 0.7317 - lr: 9.0000e-05\n",
            "Epoch 51/100\n",
            "98/98 [==============================] - 4s 44ms/step - loss: 0.3435 - acc: 0.8823 - val_loss: 0.7396 - val_acc: 0.7424 - lr: 9.0000e-05\n",
            "Epoch 52/100\n",
            "98/98 [==============================] - 4s 44ms/step - loss: 0.3440 - acc: 0.8811 - val_loss: 0.7513 - val_acc: 0.7380 - lr: 9.0000e-05\n",
            "Epoch 53/100\n",
            "98/98 [==============================] - 4s 44ms/step - loss: 0.3406 - acc: 0.8827 - val_loss: 0.7620 - val_acc: 0.7323 - lr: 9.0000e-05\n",
            "Epoch 54/100\n",
            "98/98 [==============================] - 4s 44ms/step - loss: 0.3400 - acc: 0.8840 - val_loss: 0.7692 - val_acc: 0.7316 - lr: 9.0000e-05\n",
            "Epoch 55/100\n",
            "98/98 [==============================] - 4s 44ms/step - loss: 0.3394 - acc: 0.8843 - val_loss: 0.7748 - val_acc: 0.7311 - lr: 9.0000e-05\n",
            "Epoch 56/100\n",
            "98/98 [==============================] - 4s 44ms/step - loss: 0.3385 - acc: 0.8829 - val_loss: 0.7078 - val_acc: 0.7521 - lr: 9.0000e-05\n",
            "Epoch 57/100\n",
            "98/98 [==============================] - 4s 44ms/step - loss: 0.3344 - acc: 0.8852 - val_loss: 0.7613 - val_acc: 0.7365 - lr: 9.0000e-05\n",
            "Epoch 58/100\n",
            "98/98 [==============================] - 4s 44ms/step - loss: 0.3353 - acc: 0.8851 - val_loss: 0.7657 - val_acc: 0.7332 - lr: 9.0000e-05\n",
            "Epoch 59/100\n",
            "98/98 [==============================] - 4s 43ms/step - loss: 0.3354 - acc: 0.8852 - val_loss: 0.7638 - val_acc: 0.7349 - lr: 9.0000e-05\n",
            "Epoch 60/100\n",
            "98/98 [==============================] - 4s 44ms/step - loss: 0.3332 - acc: 0.8864 - val_loss: 0.7994 - val_acc: 0.7250 - lr: 9.0000e-05\n",
            "Epoch 61/100\n",
            "98/98 [==============================] - 4s 44ms/step - loss: 0.3304 - acc: 0.8870 - val_loss: 0.7289 - val_acc: 0.7460 - lr: 2.7000e-05\n",
            "Epoch 62/100\n",
            "98/98 [==============================] - 4s 45ms/step - loss: 0.3257 - acc: 0.8881 - val_loss: 0.7372 - val_acc: 0.7443 - lr: 2.7000e-05\n",
            "Epoch 63/100\n",
            "98/98 [==============================] - 4s 44ms/step - loss: 0.3245 - acc: 0.8895 - val_loss: 0.7289 - val_acc: 0.7468 - lr: 2.7000e-05\n",
            "Epoch 64/100\n",
            "98/98 [==============================] - 4s 44ms/step - loss: 0.3274 - acc: 0.8871 - val_loss: 0.7443 - val_acc: 0.7408 - lr: 2.7000e-05\n",
            "Epoch 65/100\n",
            "98/98 [==============================] - 4s 44ms/step - loss: 0.3269 - acc: 0.8868 - val_loss: 0.7695 - val_acc: 0.7327 - lr: 2.7000e-05\n",
            "Epoch 66/100\n",
            "98/98 [==============================] - 4s 44ms/step - loss: 0.3265 - acc: 0.8884 - val_loss: 0.7205 - val_acc: 0.7507 - lr: 2.7000e-05\n",
            "Epoch 67/100\n",
            "98/98 [==============================] - 4s 44ms/step - loss: 0.3244 - acc: 0.8874 - val_loss: 0.7431 - val_acc: 0.7429 - lr: 2.7000e-05\n",
            "Epoch 68/100\n",
            "98/98 [==============================] - 4s 44ms/step - loss: 0.3250 - acc: 0.8886 - val_loss: 0.7344 - val_acc: 0.7455 - lr: 2.7000e-05\n",
            "Epoch 69/100\n",
            "98/98 [==============================] - 4s 44ms/step - loss: 0.3247 - acc: 0.8888 - val_loss: 0.7381 - val_acc: 0.7438 - lr: 2.7000e-05\n",
            "Epoch 70/100\n",
            "98/98 [==============================] - 4s 44ms/step - loss: 0.3231 - acc: 0.8902 - val_loss: 0.7658 - val_acc: 0.7351 - lr: 2.7000e-05\n",
            "Epoch 71/100\n",
            "98/98 [==============================] - 4s 44ms/step - loss: 0.3225 - acc: 0.8884 - val_loss: 0.7560 - val_acc: 0.7373 - lr: 2.7000e-05\n",
            "Epoch 72/100\n",
            "98/98 [==============================] - 4s 44ms/step - loss: 0.3236 - acc: 0.8892 - val_loss: 0.7195 - val_acc: 0.7507 - lr: 2.7000e-05\n",
            "Epoch 73/100\n",
            "98/98 [==============================] - 4s 44ms/step - loss: 0.3226 - acc: 0.8901 - val_loss: 0.7422 - val_acc: 0.7424 - lr: 2.7000e-05\n",
            "Epoch 74/100\n",
            "98/98 [==============================] - 4s 44ms/step - loss: 0.3221 - acc: 0.8888 - val_loss: 0.7530 - val_acc: 0.7385 - lr: 2.7000e-05\n",
            "Epoch 75/100\n",
            "98/98 [==============================] - 5s 46ms/step - loss: 0.3231 - acc: 0.8889 - val_loss: 0.7345 - val_acc: 0.7452 - lr: 2.7000e-05\n",
            "Epoch 76/100\n",
            "98/98 [==============================] - 5s 46ms/step - loss: 0.3224 - acc: 0.8889 - val_loss: 0.7506 - val_acc: 0.7403 - lr: 2.7000e-05\n",
            "Epoch 77/100\n",
            "98/98 [==============================] - 4s 46ms/step - loss: 0.3249 - acc: 0.8874 - val_loss: 0.7367 - val_acc: 0.7454 - lr: 2.7000e-05\n",
            "Epoch 78/100\n",
            "98/98 [==============================] - 4s 45ms/step - loss: 0.3199 - acc: 0.8912 - val_loss: 0.7680 - val_acc: 0.7347 - lr: 2.7000e-05\n",
            "Epoch 79/100\n",
            "98/98 [==============================] - 4s 45ms/step - loss: 0.3212 - acc: 0.8895 - val_loss: 0.7337 - val_acc: 0.7480 - lr: 2.7000e-05\n",
            "Epoch 80/100\n",
            "98/98 [==============================] - 4s 44ms/step - loss: 0.3217 - acc: 0.8889 - val_loss: 0.7249 - val_acc: 0.7480 - lr: 2.7000e-05\n",
            "Epoch 81/100\n",
            "98/98 [==============================] - 4s 44ms/step - loss: 0.3185 - acc: 0.8898 - val_loss: 0.7322 - val_acc: 0.7471 - lr: 8.1000e-06\n",
            "Epoch 82/100\n",
            "98/98 [==============================] - 4s 44ms/step - loss: 0.3147 - acc: 0.8925 - val_loss: 0.7382 - val_acc: 0.7448 - lr: 8.1000e-06\n",
            "Epoch 83/100\n",
            "98/98 [==============================] - 4s 44ms/step - loss: 0.3199 - acc: 0.8915 - val_loss: 0.7433 - val_acc: 0.7416 - lr: 8.1000e-06\n",
            "Epoch 84/100\n",
            "98/98 [==============================] - 4s 44ms/step - loss: 0.3222 - acc: 0.8899 - val_loss: 0.7439 - val_acc: 0.7428 - lr: 8.1000e-06\n",
            "Epoch 85/100\n",
            "98/98 [==============================] - 4s 44ms/step - loss: 0.3159 - acc: 0.8917 - val_loss: 0.7497 - val_acc: 0.7403 - lr: 8.1000e-06\n",
            "Epoch 86/100\n",
            "98/98 [==============================] - 4s 44ms/step - loss: 0.3173 - acc: 0.8922 - val_loss: 0.7320 - val_acc: 0.7474 - lr: 8.1000e-06\n",
            "Epoch 87/100\n",
            "98/98 [==============================] - 4s 44ms/step - loss: 0.3192 - acc: 0.8907 - val_loss: 0.7532 - val_acc: 0.7393 - lr: 8.1000e-06\n",
            "Epoch 88/100\n",
            "98/98 [==============================] - 4s 44ms/step - loss: 0.3183 - acc: 0.8906 - val_loss: 0.7192 - val_acc: 0.7512 - lr: 8.1000e-06\n",
            "Epoch 89/100\n",
            "98/98 [==============================] - 4s 44ms/step - loss: 0.3183 - acc: 0.8909 - val_loss: 0.7376 - val_acc: 0.7444 - lr: 8.1000e-06\n",
            "Epoch 90/100\n",
            "98/98 [==============================] - 4s 44ms/step - loss: 0.3168 - acc: 0.8904 - val_loss: 0.7474 - val_acc: 0.7404 - lr: 8.1000e-06\n",
            "Epoch 91/100\n",
            "98/98 [==============================] - 4s 46ms/step - loss: 0.3195 - acc: 0.8916 - val_loss: 0.7393 - val_acc: 0.7450 - lr: 8.1000e-06\n",
            "Epoch 92/100\n",
            "98/98 [==============================] - 4s 44ms/step - loss: 0.3167 - acc: 0.8908 - val_loss: 0.7379 - val_acc: 0.7442 - lr: 8.1000e-06\n",
            "Epoch 93/100\n",
            "98/98 [==============================] - 4s 44ms/step - loss: 0.3182 - acc: 0.8913 - val_loss: 0.7370 - val_acc: 0.7447 - lr: 8.1000e-06\n",
            "Epoch 94/100\n",
            "98/98 [==============================] - 4s 44ms/step - loss: 0.3154 - acc: 0.8909 - val_loss: 0.7462 - val_acc: 0.7409 - lr: 8.1000e-06\n",
            "Epoch 95/100\n",
            "98/98 [==============================] - 4s 43ms/step - loss: 0.3190 - acc: 0.8911 - val_loss: 0.7499 - val_acc: 0.7408 - lr: 8.1000e-06\n",
            "Epoch 96/100\n",
            "98/98 [==============================] - 4s 44ms/step - loss: 0.3170 - acc: 0.8906 - val_loss: 0.7180 - val_acc: 0.7519 - lr: 8.1000e-06\n",
            "Epoch 97/100\n",
            "98/98 [==============================] - 4s 44ms/step - loss: 0.3164 - acc: 0.8920 - val_loss: 0.7270 - val_acc: 0.7477 - lr: 8.1000e-06\n",
            "Epoch 98/100\n",
            "98/98 [==============================] - 4s 44ms/step - loss: 0.3194 - acc: 0.8899 - val_loss: 0.7433 - val_acc: 0.7430 - lr: 8.1000e-06\n",
            "Epoch 99/100\n",
            "98/98 [==============================] - 4s 44ms/step - loss: 0.3148 - acc: 0.8926 - val_loss: 0.7274 - val_acc: 0.7488 - lr: 8.1000e-06\n",
            "Epoch 100/100\n",
            "98/98 [==============================] - 4s 44ms/step - loss: 0.3170 - acc: 0.8914 - val_loss: 0.7378 - val_acc: 0.7448 - lr: 8.1000e-06\n",
            "CPU times: user 4min 58s, sys: 11.1 s, total: 5min 9s\n",
            "Wall time: 7min 23s\n"
          ]
        }
      ]
    },
    {
      "cell_type": "code",
      "source": [
        "print('\\t',np.max(history_BN.history['val_acc']))\n",
        "print('\\t',np.max(history_BN3.history['val_acc']))\n",
        "print('\\t',np.max(history_BN1_best.history['val_acc']))"
      ],
      "metadata": {
        "colab": {
          "base_uri": "https://localhost:8080/"
        },
        "id": "wUdRUQ5KPpG7",
        "outputId": "1bf6216a-1885-4cc2-8243-c7527f61d2fc"
      },
      "execution_count": null,
      "outputs": [
        {
          "output_type": "stream",
          "name": "stdout",
          "text": [
            "\t 0.6783000230789185\n",
            "\t 0.7297000288963318\n",
            "\t 0.7520999908447266\n"
          ]
        }
      ]
    },
    {
      "cell_type": "code",
      "source": [
        "loss = history_BN3.history['loss']\n",
        "epochs = range(1, len(loss)+1)\n",
        "\n",
        "plt.figure(figsize=(8, 8))\n",
        "plt.subplot(2, 1, 1)\n",
        "plt.title('Accuray')\n",
        "\n",
        "plt.plot(history_BN.history['acc'], 'g--', label='tCNN_BN2')\n",
        "plt.plot(history_BN.history['val_acc'], 'g', label='vCNN_BN2')\n",
        "plt.plot(history_BN3.history['acc'], 'r--', label='tCNN_BN3')\n",
        "plt.plot(history_BN3.history['val_acc'], 'r', label='vCNN_BN3')\n",
        "plt.plot(history_BN1_best.history['acc'], 'b--', label='tCNN_BN1_best')\n",
        "plt.plot(history_BN1_best.history['val_acc'], 'b', label='vCNN_BN1_best')\n",
        "\n",
        "plt.grid(True)\n",
        "plt.ylabel('ValidationAccuracy')\n",
        "#plt.ylim([0.6, 1])\n",
        "plt.legend(loc='best')\n",
        "\n",
        "plt.subplot(2, 1, 2)\n",
        "plt.title('Loss')\n",
        "plt.plot(history_BN.history['loss'], 'g--', label='tCNN_BN2')\n",
        "plt.plot(history_BN.history['val_loss'], 'g', label='vCNN_BN2')\n",
        "plt.plot(history_BN3.history['loss'], 'r--', label='tCNN_BN3')\n",
        "plt.plot(history_BN3.history['val_loss'], 'r', label='vCNN_BN3')\n",
        "plt.plot(history_BN1_best.history['loss'], 'b--', label='tCNN_BN1_best')\n",
        "plt.plot(history_BN1_best.history['val_loss'], 'b', label='vCNN_BN1_best')\n",
        "\n",
        "\n",
        "plt.grid(True)\n",
        "plt.xlabel('Epoch')\n",
        "plt.ylabel('Loss')\n",
        "#plt.semilogy()\n",
        "#plt.ylim([0.0, 1])\n",
        "plt.legend(loc='best')\n",
        "plt.show()\n"
      ],
      "metadata": {
        "colab": {
          "base_uri": "https://localhost:8080/",
          "height": 513
        },
        "id": "84rpxujtPpJZ",
        "outputId": "edbdbb2e-e23c-438a-8b0d-35d25197df9a"
      },
      "execution_count": null,
      "outputs": [
        {
          "output_type": "display_data",
          "data": {
            "text/plain": [
              "<Figure size 576x576 with 2 Axes>"
            ],
            "image/png": "[encoded data removed]"
          },
          "metadata": {
            "needs_background": "light"
          }
        }
      ]
    },
    {
      "cell_type": "code",
      "source": [],
      "metadata": {
        "id": "EhYFyHfxQUYz"
      },
      "execution_count": null,
      "outputs": []
    }
  ],
  "metadata": {
    "accelerator": "GPU",
    "colab": {
      "collapsed_sections": [],
      "provenance": [],
      "toc_visible": true,
      "include_colab_link": true
    },
    "kernelspec": {
      "display_name": "Python 3",
      "name": "python3"
    },
    "language_info": {
      "name": "python"
    },
    "gpuClass": "standard"
  },
  "nbformat": 4,
  "nbformat_minor": 0
}